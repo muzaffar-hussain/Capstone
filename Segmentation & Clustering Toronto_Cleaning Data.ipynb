{
 "cells": [
  {
   "cell_type": "markdown",
   "metadata": {
    "collapsed": true
   },
   "source": [
    "# Segmenting and Clustering Neighborhoods in Toronto"
   ]
  },
  {
   "cell_type": "markdown",
   "metadata": {},
   "source": [
    "Using this Notebook to build the code to scrape the following Wikipedia page: \n",
    "    https://en.wikipedia.org/wiki/List_of_postal_codes_of_Canada:_M,\n",
    "in order to obtain the data that is in the table of postal codes and to transform the data into a pandas dataframe."
   ]
  },
  {
   "cell_type": "markdown",
   "metadata": {},
   "source": [
    "First we will import the libraries that will be required for the task:"
   ]
  },
  {
   "cell_type": "code",
   "execution_count": 3,
   "metadata": {},
   "outputs": [
    {
     "name": "stdout",
     "output_type": "stream",
     "text": [
      "Solving environment: done\n",
      "\n",
      "## Package Plan ##\n",
      "\n",
      "  environment location: /opt/conda/envs/Python36\n",
      "\n",
      "  added / updated specs: \n",
      "    - wikipedia\n",
      "\n",
      "\n",
      "The following packages will be downloaded:\n",
      "\n",
      "    package                    |            build\n",
      "    ---------------------------|-----------------\n",
      "    certifi-2019.9.11          |           py36_0         147 KB  conda-forge\n",
      "    openssl-1.1.1d             |       h516909a_0         2.1 MB  conda-forge\n",
      "    wikipedia-1.4.0            |             py_2          13 KB  conda-forge\n",
      "    ca-certificates-2019.9.11  |       hecc5488_0         144 KB  conda-forge\n",
      "    ------------------------------------------------------------\n",
      "                                           Total:         2.4 MB\n",
      "\n",
      "The following NEW packages will be INSTALLED:\n",
      "\n",
      "    wikipedia:       1.4.0-py_2        conda-forge\n",
      "\n",
      "The following packages will be UPDATED:\n",
      "\n",
      "    certifi:         2019.9.11-py36_0              --> 2019.9.11-py36_0     conda-forge\n",
      "\n",
      "The following packages will be DOWNGRADED:\n",
      "\n",
      "    ca-certificates: 2019.10.16-0                  --> 2019.9.11-hecc5488_0 conda-forge\n",
      "    openssl:         1.1.1d-h7b6447c_3             --> 1.1.1d-h516909a_0    conda-forge\n",
      "\n",
      "\n",
      "Downloading and Extracting Packages\n",
      "certifi-2019.9.11    | 147 KB    | ##################################### | 100% \n",
      "openssl-1.1.1d       | 2.1 MB    | ##################################### | 100% \n",
      "wikipedia-1.4.0      | 13 KB     | ##################################### | 100% \n",
      "ca-certificates-2019 | 144 KB    | ##################################### | 100% \n",
      "Preparing transaction: done\n",
      "Verifying transaction: done\n",
      "Executing transaction: done\n"
     ]
    }
   ],
   "source": [
    "!conda install -c conda-forge wikipedia --yes\n",
    "\n",
    "import pandas as pd \n",
    "import wikipedia as wp\n",
    "from bs4 import BeautifulSoup"
   ]
  },
  {
   "cell_type": "markdown",
   "metadata": {},
   "source": [
    "In order to obtain the data from the page we use wikipedia library to store the content in bytes."
   ]
  },
  {
   "cell_type": "code",
   "execution_count": 6,
   "metadata": {},
   "outputs": [
    {
     "data": {
      "text/plain": [
       "b'<div class=\"mw-parser-output\"><p>This is a list of <a href=\"/wiki/Postal_codes_in_Canada\" title=\"Postal codes in Canada\">postal codes in Canada</a> where the first letter is M. Postal codes beginning with M are located within the city of <a href=\"/wiki/Toronto\" title=\"Toronto\">Toronto</a> in the province of <a href=\"/wiki/Ontario\" title=\"Ontario\">Ontario</a>. Only the first three characters are listed, corresponding to the Forward Sortation Area.\\n</p><p><a href=\"/wiki/Canada_Post\" title=\"Canada Post\">Canada Post</a> provides a free postal code look-up tool on its website,<sup id=\"cite_ref-1\" class=\"reference\"><a href=\"#cite_note-1\">&#91;1&#93;</a></sup> via its <a href=\"/wiki/Mobile_app\" title=\"Mobile app\">applications</a> for such <a href=\"/wiki/Smartphones\" class=\"mw-redirect\" title=\"Smartphones\">smartphones</a> as the <a href=\"/wiki/IPhone\" title=\"IPhone\">iPhone</a> and <a href=\"/wiki/BlackBerry\" title=\"BlackBerry\">BlackBerry</a>,<sup id=\"cite_ref-2\" class=\"reference\"><a href=\"#cite_note-2\">&#91;2&#93;</a></sup>  and sells hard-copy directories and <a href=\"/wiki/CD-ROM\" title=\"CD-ROM\">CD-ROMs</a>. Many vendors also sell validation tools, which allow customers to properly match addresses and postal codes. Hard-copy directories can also be consulted in all post offices, and some libraries.\\n</p>\\n<h2><span class=\"mw-headline\" id=\"Toronto_-_FSAs\"><a href=\"/wiki/Toronto\" title=\"Toronto\">Toronto</a> - <a href=\"/wiki/Postal_codes_in_Canada#Forward_sortation_areas\" title=\"Postal codes in Canada\">FSAs</a></span><span class=\"mw-editsection\"><span class=\"mw-editsection-bracket\">[</span><a href=\"/w/index.php?title=List_of_postal_codes_of_Canada:_M&amp;action=edit&amp;section=1\" title=\"Edit section: Toronto - FSAs\">edit</a><span class=\"mw-editsection-bracket\">]</span></span></h2>\\n<p>Note: There are no rural FSAs in Toronto, hence no postal codes should start with M0, however, the postal code M0R 8T0 is assigned to an <a href=\"/wiki/Amazon_(company)\" title=\"Amazon (company)\">Amazon (company)</a> warehouse in Mississauga, suggesting that Canada Post may be allocating the M0 FSA for high volume addresses.\\n</p>\\n<table class=\"wikitable sortable\">\\n<tbody><tr>\\n<th>Postcode</th>\\n<th>Borough</th>\\n<th>Neighbourhood\\n</th></tr>\\n<tr>\\n<td>M1A</td>\\n<td>Not assigned</td>\\n<td>Not assigned\\n</td></tr>\\n<tr>\\n<td>M2A</td>\\n<td>Not assigned</td>\\n<td>Not assigned\\n</td></tr>\\n<tr>\\n<td>M3A</td>\\n<td><a href=\"/wiki/North_York\" title=\"North York\">North York</a></td>\\n<td><a href=\"/wiki/Parkwoods\" title=\"Parkwoods\">Parkwoods</a>\\n</td></tr>\\n<tr>\\n<td>M4A</td>\\n<td><a href=\"/wiki/North_York\" title=\"North York\">North York</a></td>\\n<td><a href=\"/wiki/Victoria_Village\" title=\"Victoria Village\">Victoria Village</a>\\n</td></tr>\\n<tr>\\n<td>M5A</td>\\n<td><a href=\"/wiki/Downtown_Toronto\" title=\"Downtown Toronto\">Downtown Toronto</a></td>\\n<td><a href=\"/wiki/Harbourfront_(Toronto)\" title=\"Harbourfront (Toronto)\">Harbourfront</a>\\n</td></tr>\\n<tr>\\n<td>M5A</td>\\n<td><a href=\"/wiki/Downtown_Toronto\" title=\"Downtown Toronto\">Downtown Toronto</a></td>\\n<td><a href=\"/wiki/Regent_Park\" title=\"Regent Park\">Regent Park</a>\\n</td></tr>\\n<tr>\\n<td>M6A</td>\\n<td><a href=\"/wiki/North_York\" title=\"North York\">North York</a></td>\\n<td><a href=\"/wiki/Lawrence_Heights\" title=\"Lawrence Heights\">Lawrence Heights</a>\\n</td></tr>\\n<tr>\\n<td>M6A</td>\\n<td><a href=\"/wiki/North_York\" title=\"North York\">North York</a></td>\\n<td><a href=\"/wiki/Lawrence_Manor\" title=\"Lawrence Manor\">Lawrence Manor</a>\\n</td></tr>\\n<tr>\\n<td>M7A</td>\\n<td><a href=\"/wiki/Queen%27s_Park_(Toronto)\" title=\"Queen&#39;s Park (Toronto)\">Queen\\'s Park</a></td>\\n<td>Not assigned\\n</td></tr>\\n<tr>\\n<td>M8A</td>\\n<td>Not assigned</td>\\n<td>Not assigned\\n</td></tr>\\n<tr>\\n<td>M9A</td>\\n<td><a href=\"/wiki/Etobicoke\" title=\"Etobicoke\">Etobicoke</a></td>\\n<td><a href=\"/wiki/Islington_Avenue\" class=\"mw-redirect\" title=\"Islington Avenue\">Islington Avenue</a>\\n</td></tr>\\n<tr>\\n<td>M1B</td>\\n<td><a href=\"/wiki/Scarborough,_Toronto\" title=\"Scarborough, Toronto\">Scarborough</a></td>\\n<td><a href=\"/wiki/Rouge,_Toronto\" title=\"Rouge, Toronto\">Rouge</a>\\n</td></tr>\\n<tr>\\n<td>M1B</td>\\n<td><a href=\"/wiki/Scarborough,_Toronto\" title=\"Scarborough, Toronto\">Scarborough</a></td>\\n<td><a href=\"/wiki/Malvern,_Toronto\" title=\"Malvern, Toronto\">Malvern</a>\\n</td></tr>\\n<tr>\\n<td>M2B</td>\\n<td>Not assigned</td>\\n<td>Not assigned\\n</td></tr>\\n<tr>\\n<td>M3B</td>\\n<td><a href=\"/wiki/North_York\" title=\"North York\">North York</a></td>\\n<td>Don Mills North\\n</td></tr>\\n<tr>\\n<td>M4B</td>\\n<td><a href=\"/wiki/East_York\" title=\"East York\">East York</a></td>\\n<td><a href=\"/wiki/Woodbine_Gardens\" class=\"mw-redirect\" title=\"Woodbine Gardens\">Woodbine Gardens</a>\\n</td></tr>\\n<tr>\\n<td>M4B</td>\\n<td><a href=\"/wiki/East_York\" title=\"East York\">East York</a></td>\\n<td><a href=\"/wiki/Parkview_Hill\" class=\"mw-redirect\" title=\"Parkview Hill\">Parkview Hill</a>\\n</td></tr>\\n<tr>\\n<td>M5B</td>\\n<td><a href=\"/wiki/Downtown_Toronto\" title=\"Downtown Toronto\">Downtown Toronto</a></td>\\n<td>Ryerson\\n</td></tr>\\n<tr>\\n<td>M5B</td>\\n<td><a href=\"/wiki/Downtown_Toronto\" title=\"Downtown Toronto\">Downtown Toronto</a></td>\\n<td>Garden District\\n</td></tr>\\n<tr>\\n<td>M6B</td>\\n<td><a href=\"/wiki/North_York\" title=\"North York\">North York</a></td>\\n<td>Glencairn\\n</td></tr>\\n<tr>\\n<td>M7B</td>\\n<td>Not assigned</td>\\n<td>Not assigned\\n</td></tr>\\n<tr>\\n<td>M8B</td>\\n<td>Not assigned</td>\\n<td>Not assigned\\n</td></tr>\\n<tr>\\n<td>M9B</td>\\n<td><a href=\"/wiki/Etobicoke\" title=\"Etobicoke\">Etobicoke</a></td>\\n<td>Cloverdale\\n</td></tr>\\n<tr>\\n<td>M9B</td>\\n<td><a href=\"/wiki/Etobicoke\" title=\"Etobicoke\">Etobicoke</a></td>\\n<td><a href=\"/wiki/Islington,_Toronto\" class=\"mw-redirect\" title=\"Islington, Toronto\">Islington</a>\\n</td></tr>\\n<tr>\\n<td>M9B</td>\\n<td><a href=\"/wiki/Etobicoke\" title=\"Etobicoke\">Etobicoke</a></td>\\n<td>Martin Grove\\n</td></tr>\\n<tr>\\n<td>M9B</td>\\n<td><a href=\"/wiki/Etobicoke\" title=\"Etobicoke\">Etobicoke</a></td>\\n<td><a href=\"/wiki/Princess_Gardens\" title=\"Princess Gardens\">Princess Gardens</a>\\n</td></tr>\\n<tr>\\n<td>M9B</td>\\n<td><a href=\"/wiki/Etobicoke\" title=\"Etobicoke\">Etobicoke</a></td>\\n<td><a href=\"/wiki/West_Deane_Park\" class=\"mw-redirect\" title=\"West Deane Park\">West Deane Park</a>\\n</td></tr>\\n<tr>\\n<td>M1C</td>\\n<td><a href=\"/wiki/Scarborough,_Toronto\" title=\"Scarborough, Toronto\">Scarborough</a></td>\\n<td><a href=\"/wiki/Highland_Creek_(Toronto)\" title=\"Highland Creek (Toronto)\">Highland Creek</a>\\n</td></tr>\\n<tr>\\n<td>M1C</td>\\n<td><a href=\"/wiki/Scarborough,_Toronto\" title=\"Scarborough, Toronto\">Scarborough</a></td>\\n<td><a href=\"/wiki/Rouge_Hill\" class=\"mw-redirect\" title=\"Rouge Hill\">Rouge Hill</a>\\n</td></tr>\\n<tr>\\n<td>M1C</td>\\n<td><a href=\"/wiki/Scarborough,_Toronto\" title=\"Scarborough, Toronto\">Scarborough</a></td>\\n<td><a href=\"/wiki/Port_Union,_Toronto\" title=\"Port Union, Toronto\">Port Union</a>\\n</td></tr>\\n<tr>\\n<td>M2C</td>\\n<td>Not assigned</td>\\n<td>Not assigned\\n</td></tr>\\n<tr>\\n<td>M3C</td>\\n<td><a href=\"/wiki/North_York\" title=\"North York\">North York</a></td>\\n<td><a href=\"/wiki/Flemingdon_Park\" title=\"Flemingdon Park\">Flemingdon Park</a>\\n</td></tr>\\n<tr>\\n<td>M3C</td>\\n<td><a href=\"/wiki/North_York\" title=\"North York\">North York</a></td>\\n<td>Don Mills South\\n</td></tr>\\n<tr>\\n<td>M4C</td>\\n<td><a href=\"/wiki/East_York\" title=\"East York\">East York</a></td>\\n<td><a href=\"/wiki/Woodbine_Heights\" class=\"mw-redirect\" title=\"Woodbine Heights\">Woodbine Heights</a>\\n</td></tr>\\n<tr>\\n<td>M5C</td>\\n<td><a href=\"/wiki/Downtown_Toronto\" title=\"Downtown Toronto\">Downtown Toronto</a></td>\\n<td><a href=\"/wiki/St._James_Town\" title=\"St. James Town\">St. James Town</a>\\n</td></tr>\\n<tr>\\n<td>M6C</td>\\n<td>York</td>\\n<td><a href=\"/wiki/Humewood-Cedarvale\" class=\"mw-redirect\" title=\"Humewood-Cedarvale\">Humewood-Cedarvale</a>\\n</td></tr>\\n<tr>\\n<td>M7C</td>\\n<td>Not assigned</td>\\n<td>Not assigned\\n</td></tr>\\n<tr>\\n<td>M8C</td>\\n<td>Not assigned</td>\\n<td>Not assigned\\n</td></tr>\\n<tr>\\n<td>M9C</td>\\n<td><a href=\"/wiki/Etobicoke\" title=\"Etobicoke\">Etobicoke</a></td>\\n<td>Bloordale Gardens\\n</td></tr>\\n<tr>\\n<td>M9C</td>\\n<td><a href=\"/wiki/Etobicoke\" title=\"Etobicoke\">Etobicoke</a></td>\\n<td>Eringate\\n</td></tr>\\n<tr>\\n<td>M9C</td>\\n<td><a href=\"/wiki/Etobicoke\" title=\"Etobicoke\">Etobicoke</a></td>\\n<td><a href=\"/wiki/Markland_Wood\" title=\"Markland Wood\">Markland Wood</a>\\n</td></tr>\\n<tr>\\n<td>M9C</td>\\n<td><a href=\"/wiki/Etobicoke\" title=\"Etobicoke\">Etobicoke</a></td>\\n<td>Old Burnhamthorpe\\n</td></tr>\\n<tr>\\n<td>M1E</td>\\n<td><a href=\"/wiki/Scarborough,_Toronto\" title=\"Scarborough, Toronto\">Scarborough</a></td>\\n<td>Guildwood\\n</td></tr>\\n<tr>\\n<td>M1E</td>\\n<td><a href=\"/wiki/Scarborough,_Toronto\" title=\"Scarborough, Toronto\">Scarborough</a></td>\\n<td><a href=\"/wiki/Morningside,_Toronto\" title=\"Morningside, Toronto\">Morningside</a>\\n</td></tr>\\n<tr>\\n<td>M1E</td>\\n<td><a href=\"/wiki/Scarborough,_Toronto\" title=\"Scarborough, Toronto\">Scarborough</a></td>\\n<td><a href=\"/wiki/West_Hill,_Toronto\" title=\"West Hill, Toronto\">West Hill</a>\\n</td></tr>\\n<tr>\\n<td>M2E</td>\\n<td>Not assigned</td>\\n<td>Not assigned\\n</td></tr>\\n<tr>\\n<td>M3E</td>\\n<td>Not assigned</td>\\n<td>Not assigned\\n</td></tr>\\n<tr>\\n<td>M4E</td>\\n<td><a href=\"/wiki/East_Toronto\" title=\"East Toronto\">East Toronto</a></td>\\n<td><a href=\"/wiki/The_Beaches\" title=\"The Beaches\">The Beaches</a>\\n</td></tr>\\n<tr>\\n<td>M5E</td>\\n<td><a href=\"/wiki/Downtown_Toronto\" title=\"Downtown Toronto\">Downtown Toronto</a></td>\\n<td><a href=\"/wiki/Berczy_Park\" title=\"Berczy Park\">Berczy Park</a>\\n</td></tr>\\n<tr>\\n<td>M6E</td>\\n<td>York</td>\\n<td>Caledonia-Fairbanks\\n</td></tr>\\n<tr>\\n<td>M7E</td>\\n<td>Not assigned</td>\\n<td>Not assigned\\n</td></tr>\\n<tr>\\n<td>M8E</td>\\n<td>Not assigned</td>\\n<td>Not assigned\\n</td></tr>\\n<tr>\\n<td>M9E</td>\\n<td>Not assigned</td>\\n<td>Not assigned\\n</td></tr>\\n<tr>\\n<td>M1G</td>\\n<td><a href=\"/wiki/Scarborough,_Toronto\" title=\"Scarborough, Toronto\">Scarborough</a></td>\\n<td><a href=\"/wiki/Woburn,_Toronto\" title=\"Woburn, Toronto\">Woburn</a>\\n</td></tr>\\n<tr>\\n<td>M2G</td>\\n<td>Not assigned</td>\\n<td>Not assigned\\n</td></tr>\\n<tr>\\n<td>M3G</td>\\n<td>Not assigned</td>\\n<td>Not assigned\\n</td></tr>\\n<tr>\\n<td>M4G</td>\\n<td><a href=\"/wiki/East_York\" title=\"East York\">East York</a></td>\\n<td><a href=\"/wiki/Leaside\" title=\"Leaside\">Leaside</a>\\n</td></tr>\\n<tr>\\n<td>M5G</td>\\n<td><a href=\"/wiki/Downtown_Toronto\" title=\"Downtown Toronto\">Downtown Toronto</a></td>\\n<td>Central Bay Street\\n</td></tr>\\n<tr>\\n<td>M6G</td>\\n<td><a href=\"/wiki/Downtown_Toronto\" title=\"Downtown Toronto\">Downtown Toronto</a></td>\\n<td>Christie\\n</td></tr>\\n<tr>\\n<td>M7G</td>\\n<td>Not assigned</td>\\n<td>Not assigned\\n</td></tr>\\n<tr>\\n<td>M8G</td>\\n<td>Not assigned</td>\\n<td>Not assigned\\n</td></tr>\\n<tr>\\n<td>M9G</td>\\n<td>Not assigned</td>\\n<td>Not assigned\\n</td></tr>\\n<tr>\\n<td>M1H</td>\\n<td><a href=\"/wiki/Scarborough,_Toronto\" title=\"Scarborough, Toronto\">Scarborough</a></td>\\n<td>Cedarbrae\\n</td></tr>\\n<tr>\\n<td>M2H</td>\\n<td><a href=\"/wiki/North_York\" title=\"North York\">North York</a></td>\\n<td><a href=\"/wiki/Hillcrest_Village\" title=\"Hillcrest Village\">Hillcrest Village</a>\\n</td></tr>\\n<tr>\\n<td>M3H</td>\\n<td><a href=\"/wiki/North_York\" title=\"North York\">North York</a></td>\\n<td><a href=\"/wiki/Bathurst_Manor\" title=\"Bathurst Manor\">Bathurst Manor</a>\\n</td></tr>\\n<tr>\\n<td>M3H</td>\\n<td><a href=\"/wiki/North_York\" title=\"North York\">North York</a></td>\\n<td>Downsview North\\n</td></tr>\\n<tr>\\n<td>M3H</td>\\n<td><a href=\"/wiki/North_York\" title=\"North York\">North York</a></td>\\n<td><a href=\"/wiki/Wilson_Heights,_Toronto\" class=\"mw-redirect\" title=\"Wilson Heights, Toronto\">Wilson Heights</a>\\n</td></tr>\\n<tr>\\n<td>M4H</td>\\n<td><a href=\"/wiki/East_York\" title=\"East York\">East York</a></td>\\n<td><a href=\"/wiki/Thorncliffe_Park\" title=\"Thorncliffe Park\">Thorncliffe Park</a>\\n</td></tr>\\n<tr>\\n<td>M5H</td>\\n<td><a href=\"/wiki/Downtown_Toronto\" title=\"Downtown Toronto\">Downtown Toronto</a></td>\\n<td>Adelaide\\n</td></tr>\\n<tr>\\n<td>M5H</td>\\n<td><a href=\"/wiki/Downtown_Toronto\" title=\"Downtown Toronto\">Downtown Toronto</a></td>\\n<td>King\\n</td></tr>\\n<tr>\\n<td>M5H</td>\\n<td><a href=\"/wiki/Downtown_Toronto\" title=\"Downtown Toronto\">Downtown Toronto</a></td>\\n<td>Richmond\\n</td></tr>\\n<tr>\\n<td>M6H</td>\\n<td><a href=\"/wiki/West_Toronto\" title=\"West Toronto\">West Toronto</a></td>\\n<td><a href=\"/wiki/Dovercourt_Village\" class=\"mw-redirect\" title=\"Dovercourt Village\">Dovercourt Village</a>\\n</td></tr>\\n<tr>\\n<td>M6H</td>\\n<td><a href=\"/wiki/West_Toronto\" title=\"West Toronto\">West Toronto</a></td>\\n<td>Dufferin\\n</td></tr>\\n<tr>\\n<td>M7H</td>\\n<td>Not assigned</td>\\n<td>Not assigned\\n</td></tr>\\n<tr>\\n<td>M8H</td>\\n<td>Not assigned</td>\\n<td>Not assigned\\n</td></tr>\\n<tr>\\n<td>M9H</td>\\n<td>Not assigned</td>\\n<td>Not assigned\\n</td></tr>\\n<tr>\\n<td>M1J</td>\\n<td><a href=\"/wiki/Scarborough,_Toronto\" title=\"Scarborough, Toronto\">Scarborough</a></td>\\n<td><a href=\"/wiki/Scarborough_Village\" title=\"Scarborough Village\">Scarborough Village</a>\\n</td></tr>\\n<tr>\\n<td>M2J</td>\\n<td><a href=\"/wiki/North_York\" title=\"North York\">North York</a></td>\\n<td>Fairview\\n</td></tr>\\n<tr>\\n<td>M2J</td>\\n<td><a href=\"/wiki/North_York\" title=\"North York\">North York</a></td>\\n<td><a href=\"/wiki/Henry_Farm\" title=\"Henry Farm\">Henry Farm</a>\\n</td></tr>\\n<tr>\\n<td>M2J</td>\\n<td><a href=\"/wiki/North_York\" title=\"North York\">North York</a></td>\\n<td>Oriole\\n</td></tr>\\n<tr>\\n<td>M3J</td>\\n<td><a href=\"/wiki/North_York\" title=\"North York\">North York</a></td>\\n<td><a href=\"/wiki/Northwood_Park\" class=\"mw-redirect\" title=\"Northwood Park\">Northwood Park</a>\\n</td></tr>\\n<tr>\\n<td>M3J</td>\\n<td><a href=\"/wiki/North_York\" title=\"North York\">North York</a></td>\\n<td><a href=\"/wiki/York_University\" title=\"York University\">York University</a>\\n</td></tr>\\n<tr>\\n<td>M4J</td>\\n<td><a href=\"/wiki/East_York\" title=\"East York\">East York</a></td>\\n<td><a href=\"/wiki/East_Toronto\" title=\"East Toronto\">East Toronto</a>\\n</td></tr>\\n<tr>\\n<td>M5J</td>\\n<td><a href=\"/wiki/Downtown_Toronto\" title=\"Downtown Toronto\">Downtown Toronto</a></td>\\n<td>Harbourfront East\\n</td></tr>\\n<tr>\\n<td>M5J</td>\\n<td><a href=\"/wiki/Downtown_Toronto\" title=\"Downtown Toronto\">Downtown Toronto</a></td>\\n<td><a href=\"/wiki/Toronto_Islands\" title=\"Toronto Islands\">Toronto Islands</a>\\n</td></tr>\\n<tr>\\n<td>M5J</td>\\n<td><a href=\"/wiki/Downtown_Toronto\" title=\"Downtown Toronto\">Downtown Toronto</a></td>\\n<td><a href=\"/wiki/Union_Station_(Toronto)\" title=\"Union Station (Toronto)\">Union Station</a>\\n</td></tr>\\n<tr>\\n<td>M6J</td>\\n<td><a href=\"/wiki/West_Toronto\" title=\"West Toronto\">West Toronto</a></td>\\n<td><a href=\"/wiki/Little_Portugal,_Toronto\" title=\"Little Portugal, Toronto\">Little Portugal</a>\\n</td></tr>\\n<tr>\\n<td>M6J</td>\\n<td><a href=\"/wiki/West_Toronto\" title=\"West Toronto\">West Toronto</a></td>\\n<td><a href=\"/wiki/Trinity%E2%80%93Bellwoods\" title=\"Trinity\\xe2\\x80\\x93Bellwoods\">Trinity</a>\\n</td></tr>\\n<tr>\\n<td>M7J</td>\\n<td>Not assigned</td>\\n<td>Not assigned\\n</td></tr>\\n<tr>\\n<td>M8J</td>\\n<td>Not assigned</td>\\n<td>Not assigned\\n</td></tr>\\n<tr>\\n<td>M9J</td>\\n<td>Not assigned</td>\\n<td>Not assigned\\n</td></tr>\\n<tr>\\n<td>M1K</td>\\n<td><a href=\"/wiki/Scarborough,_Toronto\" title=\"Scarborough, Toronto\">Scarborough</a></td>\\n<td>East Birchmount Park\\n</td></tr>\\n<tr>\\n<td>M1K</td>\\n<td><a href=\"/wiki/Scarborough,_Toronto\" title=\"Scarborough, Toronto\">Scarborough</a></td>\\n<td><a href=\"/wiki/Ionview\" title=\"Ionview\">Ionview</a>\\n</td></tr>\\n<tr>\\n<td>M1K</td>\\n<td><a href=\"/wiki/Scarborough,_Toronto\" title=\"Scarborough, Toronto\">Scarborough</a></td>\\n<td><a href=\"/wiki/Kennedy_Park,_Toronto\" class=\"mw-redirect\" title=\"Kennedy Park, Toronto\">Kennedy Park</a>\\n</td></tr>\\n<tr>\\n<td>M2K</td>\\n<td><a href=\"/wiki/North_York\" title=\"North York\">North York</a></td>\\n<td><a href=\"/wiki/Bayview_Village\" title=\"Bayview Village\">Bayview Village</a>\\n</td></tr>\\n<tr>\\n<td>M3K</td>\\n<td><a href=\"/wiki/North_York\" title=\"North York\">North York</a></td>\\n<td><a href=\"/wiki/CFB_Toronto\" title=\"CFB Toronto\">CFB Toronto</a>\\n</td></tr>\\n<tr>\\n<td>M3K</td>\\n<td><a href=\"/wiki/North_York\" title=\"North York\">North York</a></td>\\n<td>Downsview East\\n</td></tr>\\n<tr>\\n<td>M4K</td>\\n<td><a href=\"/wiki/East_Toronto\" title=\"East Toronto\">East Toronto</a></td>\\n<td>The Danforth West\\n</td></tr>\\n<tr>\\n<td>M4K</td>\\n<td><a href=\"/wiki/East_Toronto\" title=\"East Toronto\">East Toronto</a></td>\\n<td><a href=\"/wiki/Riverdale,_Toronto\" title=\"Riverdale, Toronto\">Riverdale</a>\\n</td></tr>\\n<tr>\\n<td>M5K</td>\\n<td><a href=\"/wiki/Downtown_Toronto\" title=\"Downtown Toronto\">Downtown Toronto</a></td>\\n<td><a href=\"/wiki/Design_Exchange\" title=\"Design Exchange\">Design Exchange</a>\\n</td></tr>\\n<tr>\\n<td>M5K</td>\\n<td><a href=\"/wiki/Downtown_Toronto\" title=\"Downtown Toronto\">Downtown Toronto</a></td>\\n<td><a href=\"/wiki/Toronto_Dominion_Centre\" class=\"mw-redirect\" title=\"Toronto Dominion Centre\">Toronto Dominion Centre</a>\\n</td></tr>\\n<tr>\\n<td>M6K</td>\\n<td><a href=\"/wiki/West_Toronto\" title=\"West Toronto\">West Toronto</a></td>\\n<td>Brockton\\n</td></tr>\\n<tr>\\n<td>M6K</td>\\n<td><a href=\"/wiki/West_Toronto\" title=\"West Toronto\">West Toronto</a></td>\\n<td><a href=\"/wiki/Exhibition_Place\" title=\"Exhibition Place\">Exhibition Place</a>\\n</td></tr>\\n<tr>\\n<td>M6K</td>\\n<td><a href=\"/wiki/West_Toronto\" title=\"West Toronto\">West Toronto</a></td>\\n<td><a href=\"/wiki/Parkdale_Village\" class=\"mw-redirect\" title=\"Parkdale Village\">Parkdale Village</a>\\n</td></tr>\\n<tr>\\n<td>M7K</td>\\n<td>Not assigned</td>\\n<td>Not assigned\\n</td></tr>\\n<tr>\\n<td>M8K</td>\\n<td>Not assigned</td>\\n<td>Not assigned\\n</td></tr>\\n<tr>\\n<td>M9K</td>\\n<td>Not assigned</td>\\n<td>Not assigned\\n</td></tr>\\n<tr>\\n<td>M1L</td>\\n<td><a href=\"/wiki/Scarborough,_Toronto\" title=\"Scarborough, Toronto\">Scarborough</a></td>\\n<td><a href=\"/wiki/Clairlea\" title=\"Clairlea\">Clairlea</a>\\n</td></tr>\\n<tr>\\n<td>M1L</td>\\n<td><a href=\"/wiki/Scarborough,_Toronto\" title=\"Scarborough, Toronto\">Scarborough</a></td>\\n<td><a href=\"/wiki/Golden_Mile,_Toronto\" title=\"Golden Mile, Toronto\">Golden Mile</a>\\n</td></tr>\\n<tr>\\n<td>M1L</td>\\n<td><a href=\"/wiki/Scarborough,_Toronto\" title=\"Scarborough, Toronto\">Scarborough</a></td>\\n<td><a href=\"/wiki/Oakridge,_Toronto\" title=\"Oakridge, Toronto\">Oakridge</a>\\n</td></tr>\\n<tr>\\n<td>M2L</td>\\n<td><a href=\"/wiki/North_York\" title=\"North York\">North York</a></td>\\n<td>Silver Hills\\n</td></tr>\\n<tr>\\n<td>M2L</td>\\n<td><a href=\"/wiki/North_York\" title=\"North York\">North York</a></td>\\n<td><a href=\"/wiki/York_Mills\" title=\"York Mills\">York Mills</a>\\n</td></tr>\\n<tr>\\n<td>M3L</td>\\n<td><a href=\"/wiki/North_York\" title=\"North York\">North York</a></td>\\n<td><a href=\"/wiki/Downsview\" title=\"Downsview\">Downsview West</a>\\n</td></tr>\\n<tr>\\n<td>M4L</td>\\n<td><a href=\"/wiki/East_Toronto\" title=\"East Toronto\">East Toronto</a></td>\\n<td>The Beaches West\\n</td></tr>\\n<tr>\\n<td>M4L</td>\\n<td><a href=\"/wiki/East_Toronto\" title=\"East Toronto\">East Toronto</a></td>\\n<td><a href=\"/wiki/India_Bazaar\" class=\"mw-redirect\" title=\"India Bazaar\">India Bazaar</a>\\n</td></tr>\\n<tr>\\n<td>M5L</td>\\n<td><a href=\"/wiki/Downtown_Toronto\" title=\"Downtown Toronto\">Downtown Toronto</a></td>\\n<td><a href=\"/wiki/Commerce_Court\" title=\"Commerce Court\">Commerce Court</a>\\n</td></tr>\\n<tr>\\n<td>M5L</td>\\n<td><a href=\"/wiki/Downtown_Toronto\" title=\"Downtown Toronto\">Downtown Toronto</a></td>\\n<td>Victoria Hotel\\n</td></tr>\\n<tr>\\n<td>M6L</td>\\n<td><a href=\"/wiki/North_York\" title=\"North York\">North York</a></td>\\n<td><a href=\"/wiki/Downsview,_Toronto\" class=\"mw-redirect\" title=\"Downsview, Toronto\">Downsview</a>\\n</td></tr>\\n<tr>\\n<td>M6L</td>\\n<td><a href=\"/wiki/North_York\" title=\"North York\">North York</a></td>\\n<td>North Park\\n</td></tr>\\n<tr>\\n<td>M6L</td>\\n<td><a href=\"/wiki/North_York\" title=\"North York\">North York</a></td>\\n<td>Upwood Park\\n</td></tr>\\n<tr>\\n<td>M7L</td>\\n<td>Not assigned</td>\\n<td>Not assigned\\n</td></tr>\\n<tr>\\n<td>M8L</td>\\n<td>Not assigned</td>\\n<td>Not assigned\\n</td></tr>\\n<tr>\\n<td>M9L</td>\\n<td><a href=\"/wiki/North_York\" title=\"North York\">North York</a></td>\\n<td><a href=\"/wiki/Humber_Summit\" title=\"Humber Summit\">Humber Summit</a>\\n</td></tr>\\n<tr>\\n<td>M1M</td>\\n<td><a href=\"/wiki/Scarborough,_Toronto\" title=\"Scarborough, Toronto\">Scarborough</a></td>\\n<td><a href=\"/wiki/Cliffcrest\" title=\"Cliffcrest\">Cliffcrest</a>\\n</td></tr>\\n<tr>\\n<td>M1M</td>\\n<td><a href=\"/wiki/Scarborough,_Toronto\" title=\"Scarborough, Toronto\">Scarborough</a></td>\\n<td><a href=\"/wiki/Cliffside,_Toronto\" title=\"Cliffside, Toronto\">Cliffside</a>\\n</td></tr>\\n<tr>\\n<td>M1M</td>\\n<td><a href=\"/wiki/Scarborough,_Toronto\" title=\"Scarborough, Toronto\">Scarborough</a></td>\\n<td>Scarborough Village West\\n</td></tr>\\n<tr>\\n<td>M2M</td>\\n<td><a href=\"/wiki/North_York\" title=\"North York\">North York</a></td>\\n<td><a href=\"/wiki/Newtonbrook\" title=\"Newtonbrook\">Newtonbrook</a>\\n</td></tr>\\n<tr>\\n<td>M2M</td>\\n<td><a href=\"/wiki/North_York\" title=\"North York\">North York</a></td>\\n<td><a href=\"/wiki/Willowdale,_Toronto\" title=\"Willowdale, Toronto\">Willowdale</a>\\n</td></tr>\\n<tr>\\n<td>M3M</td>\\n<td><a href=\"/wiki/North_York\" title=\"North York\">North York</a></td>\\n<td>Downsview Central\\n</td></tr>\\n<tr>\\n<td>M4M</td>\\n<td><a href=\"/wiki/East_Toronto\" title=\"East Toronto\">East Toronto</a></td>\\n<td>Studio District\\n</td></tr>\\n<tr>\\n<td>M5M</td>\\n<td><a href=\"/wiki/North_York\" title=\"North York\">North York</a></td>\\n<td><a href=\"/wiki/Bedford_Park,_Toronto\" title=\"Bedford Park, Toronto\">Bedford Park</a>\\n</td></tr>\\n<tr>\\n<td>M5M</td>\\n<td><a href=\"/wiki/North_York\" title=\"North York\">North York</a></td>\\n<td>Lawrence Manor East\\n</td></tr>\\n<tr>\\n<td>M6M</td>\\n<td><a href=\"/wiki/York,_Toronto\" title=\"York, Toronto\">York</a></td>\\n<td>Del Ray\\n</td></tr>\\n<tr>\\n<td>M6M</td>\\n<td><a href=\"/wiki/York,_Toronto\" title=\"York, Toronto\">York</a></td>\\n<td><a href=\"/wiki/Keelesdale\" class=\"mw-redirect\" title=\"Keelesdale\">Keelesdale</a>\\n</td></tr>\\n<tr>\\n<td>M6M</td>\\n<td><a href=\"/wiki/York,_Toronto\" title=\"York, Toronto\">York</a></td>\\n<td><a href=\"/wiki/Mount_Dennis\" title=\"Mount Dennis\">Mount Dennis</a>\\n</td></tr>\\n<tr>\\n<td>M6M</td>\\n<td><a href=\"/wiki/York,_Toronto\" title=\"York, Toronto\">York</a></td>\\n<td><a href=\"/wiki/Silverthorn,_Toronto\" title=\"Silverthorn, Toronto\">Silverthorn</a>\\n</td></tr>\\n<tr>\\n<td>M7M</td>\\n<td>Not assigned</td>\\n<td>Not assigned\\n</td></tr>\\n<tr>\\n<td>M8M</td>\\n<td>Not assigned</td>\\n<td>Not assigned\\n</td></tr>\\n<tr>\\n<td>M9M</td>\\n<td><a href=\"/wiki/North_York\" title=\"North York\">North York</a></td>\\n<td><a href=\"/wiki/Emery,_Toronto\" class=\"mw-redirect\" title=\"Emery, Toronto\">Emery</a>\\n</td></tr>\\n<tr>\\n<td>M9M</td>\\n<td><a href=\"/wiki/North_York\" title=\"North York\">North York</a></td>\\n<td><a href=\"/wiki/Humberlea\" class=\"mw-redirect\" title=\"Humberlea\">Humberlea</a>\\n</td></tr>\\n<tr>\\n<td>M1N</td>\\n<td><a href=\"/wiki/Scarborough,_Toronto\" title=\"Scarborough, Toronto\">Scarborough</a></td>\\n<td><a href=\"/wiki/Birch_Cliff\" title=\"Birch Cliff\">Birch Cliff</a>\\n</td></tr>\\n<tr>\\n<td>M1N</td>\\n<td><a href=\"/wiki/Scarborough,_Toronto\" title=\"Scarborough, Toronto\">Scarborough</a></td>\\n<td>Cliffside West\\n</td></tr>\\n<tr>\\n<td>M2N</td>\\n<td><a href=\"/wiki/North_York\" title=\"North York\">North York</a></td>\\n<td>Willowdale South\\n</td></tr>\\n<tr>\\n<td>M3N</td>\\n<td><a href=\"/wiki/North_York\" title=\"North York\">North York</a></td>\\n<td>Downsview Northwest\\n</td></tr>\\n<tr>\\n<td>M4N</td>\\n<td><a href=\"/wiki/Central_Toronto\" class=\"mw-redirect\" title=\"Central Toronto\">Central Toronto</a></td>\\n<td><a href=\"/wiki/Lawrence_Park,_Toronto\" title=\"Lawrence Park, Toronto\">Lawrence Park</a>\\n</td></tr>\\n<tr>\\n<td>M5N</td>\\n<td><a href=\"/wiki/Central_Toronto\" class=\"mw-redirect\" title=\"Central Toronto\">Central Toronto</a></td>\\n<td>Roselawn\\n</td></tr>\\n<tr>\\n<td>M6N</td>\\n<td><a href=\"/wiki/York,_Toronto\" title=\"York, Toronto\">York</a></td>\\n<td>The Junction North\\n</td></tr>\\n<tr>\\n<td>M6N</td>\\n<td><a href=\"/wiki/York,_Toronto\" title=\"York, Toronto\">York</a></td>\\n<td>Runnymede\\n</td></tr>\\n<tr>\\n<td>M7N</td>\\n<td>Not assigned</td>\\n<td>Not assigned\\n</td></tr>\\n<tr>\\n<td>M8N</td>\\n<td>Not assigned</td>\\n<td>Not assigned\\n</td></tr>\\n<tr>\\n<td>M9N</td>\\n<td><a href=\"/wiki/York,_Toronto\" title=\"York, Toronto\">York</a></td>\\n<td><a href=\"/wiki/Weston,_Toronto\" title=\"Weston, Toronto\">Weston</a>\\n</td></tr>\\n<tr>\\n<td>M1P</td>\\n<td><a href=\"/wiki/Scarborough,_Toronto\" title=\"Scarborough, Toronto\">Scarborough</a></td>\\n<td><a href=\"/wiki/Dorset_Park\" title=\"Dorset Park\">Dorset Park</a>\\n</td></tr>\\n<tr>\\n<td>M1P</td>\\n<td><a href=\"/wiki/Scarborough,_Toronto\" title=\"Scarborough, Toronto\">Scarborough</a></td>\\n<td><a href=\"/wiki/Scarborough_Town_Centre\" title=\"Scarborough Town Centre\">Scarborough Town Centre</a>\\n</td></tr>\\n<tr>\\n<td>M1P</td>\\n<td><a href=\"/wiki/Scarborough,_Toronto\" title=\"Scarborough, Toronto\">Scarborough</a></td>\\n<td><a href=\"/wiki/Wexford_Heights\" class=\"mw-redirect\" title=\"Wexford Heights\">Wexford Heights</a>\\n</td></tr>\\n<tr>\\n<td>M2P</td>\\n<td><a href=\"/wiki/North_York\" title=\"North York\">North York</a></td>\\n<td>York Mills West\\n</td></tr>\\n<tr>\\n<td>M3P</td>\\n<td>Not assigned</td>\\n<td>Not assigned\\n</td></tr>\\n<tr>\\n<td>M4P</td>\\n<td><a href=\"/wiki/Central_Toronto\" class=\"mw-redirect\" title=\"Central Toronto\">Central Toronto</a></td>\\n<td>Davisville North\\n</td></tr>\\n<tr>\\n<td>M5P</td>\\n<td><a href=\"/wiki/Central_Toronto\" class=\"mw-redirect\" title=\"Central Toronto\">Central Toronto</a></td>\\n<td><a href=\"/wiki/Forest_Hill_North\" class=\"mw-redirect\" title=\"Forest Hill North\">Forest Hill North</a>\\n</td></tr>\\n<tr>\\n<td>M5P</td>\\n<td><a href=\"/wiki/Central_Toronto\" class=\"mw-redirect\" title=\"Central Toronto\">Central Toronto</a></td>\\n<td>Forest Hill West\\n</td></tr>\\n<tr>\\n<td>M6P</td>\\n<td><a href=\"/wiki/West_Toronto\" title=\"West Toronto\">West Toronto</a></td>\\n<td><a href=\"/wiki/High_Park\" title=\"High Park\">High Park</a>\\n</td></tr>\\n<tr>\\n<td>M6P</td>\\n<td><a href=\"/wiki/West_Toronto\" title=\"West Toronto\">West Toronto</a></td>\\n<td>The Junction South\\n</td></tr>\\n<tr>\\n<td>M7P</td>\\n<td>Not assigned</td>\\n<td>Not assigned\\n</td></tr>\\n<tr>\\n<td>M8P</td>\\n<td>Not assigned</td>\\n<td>Not assigned\\n</td></tr>\\n<tr>\\n<td>M9P</td>\\n<td><a href=\"/wiki/Etobicoke\" title=\"Etobicoke\">Etobicoke</a></td>\\n<td>Westmount\\n</td></tr>\\n<tr>\\n<td>M1R</td>\\n<td><a href=\"/wiki/Scarborough,_Toronto\" title=\"Scarborough, Toronto\">Scarborough</a></td>\\n<td><a href=\"/wiki/Maryvale,_Toronto\" title=\"Maryvale, Toronto\">Maryvale</a>\\n</td></tr>\\n<tr>\\n<td>M1R</td>\\n<td><a href=\"/wiki/Scarborough,_Toronto\" title=\"Scarborough, Toronto\">Scarborough</a></td>\\n<td><a href=\"/wiki/Wexford,_Toronto\" title=\"Wexford, Toronto\">Wexford</a>\\n</td></tr>\\n<tr>\\n<td>M2R</td>\\n<td><a href=\"/wiki/North_York\" title=\"North York\">North York</a></td>\\n<td><a href=\"/wiki/Willowdale_West\" class=\"mw-redirect\" title=\"Willowdale West\">Willowdale West</a>\\n</td></tr>\\n<tr>\\n<td>M3R</td>\\n<td>Not assigned</td>\\n<td>Not assigned\\n</td></tr>\\n<tr>\\n<td>M4R</td>\\n<td><a href=\"/wiki/Central_Toronto\" class=\"mw-redirect\" title=\"Central Toronto\">Central Toronto</a></td>\\n<td>North Toronto West\\n</td></tr>\\n<tr>\\n<td>M5R</td>\\n<td><a href=\"/wiki/Central_Toronto\" class=\"mw-redirect\" title=\"Central Toronto\">Central Toronto</a></td>\\n<td><a href=\"/wiki/The_Annex\" title=\"The Annex\">The Annex</a>\\n</td></tr>\\n<tr>\\n<td>M5R</td>\\n<td><a href=\"/wiki/Central_Toronto\" class=\"mw-redirect\" title=\"Central Toronto\">Central Toronto</a></td>\\n<td>North Midtown\\n</td></tr>\\n<tr>\\n<td>M5R</td>\\n<td><a href=\"/wiki/Central_Toronto\" class=\"mw-redirect\" title=\"Central Toronto\">Central Toronto</a></td>\\n<td><a href=\"/wiki/Yorkville,_Toronto\" title=\"Yorkville, Toronto\">Yorkville</a>\\n</td></tr>\\n<tr>\\n<td>M6R</td>\\n<td><a href=\"/wiki/West_Toronto\" title=\"West Toronto\">West Toronto</a></td>\\n<td><a href=\"/wiki/Parkdale,_Toronto\" title=\"Parkdale, Toronto\">Parkdale</a>\\n</td></tr>\\n<tr>\\n<td>M6R</td>\\n<td><a href=\"/wiki/West_Toronto\" title=\"West Toronto\">West Toronto</a></td>\\n<td><a href=\"/wiki/Roncesvalles,_Toronto\" title=\"Roncesvalles, Toronto\">Roncesvalles</a>\\n</td></tr>\\n<tr>\\n<td>M7R</td>\\n<td>Mississauga</td>\\n<td>Canada Post Gateway Processing Centre\\n</td></tr>\\n<tr>\\n<td>M8R</td>\\n<td>Not assigned</td>\\n<td>Not assigned\\n</td></tr>\\n<tr>\\n<td>M9R</td>\\n<td><a href=\"/wiki/Etobicoke\" title=\"Etobicoke\">Etobicoke</a></td>\\n<td><a href=\"/wiki/Kingsview_Village\" title=\"Kingsview Village\">Kingsview Village</a>\\n</td></tr>\\n<tr>\\n<td>M9R</td>\\n<td><a href=\"/wiki/Etobicoke\" title=\"Etobicoke\">Etobicoke</a></td>\\n<td>Martin Grove Gardens\\n</td></tr>\\n<tr>\\n<td>M9R</td>\\n<td><a href=\"/wiki/Etobicoke\" title=\"Etobicoke\">Etobicoke</a></td>\\n<td>Richview Gardens\\n</td></tr>\\n<tr>\\n<td>M9R</td>\\n<td><a href=\"/wiki/Etobicoke\" title=\"Etobicoke\">Etobicoke</a></td>\\n<td>St. Phillips\\n</td></tr>\\n<tr>\\n<td>M1S</td>\\n<td><a href=\"/wiki/Scarborough,_Toronto\" title=\"Scarborough, Toronto\">Scarborough</a></td>\\n<td><a href=\"/wiki/Agincourt,_Toronto\" title=\"Agincourt, Toronto\">Agincourt</a>\\n</td></tr>\\n<tr>\\n<td>M2S</td>\\n<td>Not assigned</td>\\n<td>Not assigned\\n</td></tr>\\n<tr>\\n<td>M3S</td>\\n<td>Not assigned</td>\\n<td>Not assigned\\n</td></tr>\\n<tr>\\n<td>M4S</td>\\n<td><a href=\"/wiki/Central_Toronto\" class=\"mw-redirect\" title=\"Central Toronto\">Central Toronto</a></td>\\n<td>Davisville\\n</td></tr>\\n<tr>\\n<td>M5S</td>\\n<td><a href=\"/wiki/Downtown_Toronto\" title=\"Downtown Toronto\">Downtown Toronto</a></td>\\n<td>Harbord\\n</td></tr>\\n<tr>\\n<td>M5S</td>\\n<td><a href=\"/wiki/Downtown_Toronto\" title=\"Downtown Toronto\">Downtown Toronto</a></td>\\n<td><a href=\"/wiki/University_of_Toronto\" title=\"University of Toronto\">University of Toronto</a>\\n</td></tr>\\n<tr>\\n<td>M6S</td>\\n<td><a href=\"/wiki/West_Toronto\" title=\"West Toronto\">West Toronto</a></td>\\n<td><a href=\"/wiki/Runnymede,_Toronto\" title=\"Runnymede, Toronto\">Runnymede</a>\\n</td></tr>\\n<tr>\\n<td>M6S</td>\\n<td><a href=\"/wiki/West_Toronto\" title=\"West Toronto\">West Toronto</a></td>\\n<td><a href=\"/wiki/Swansea,_Toronto\" title=\"Swansea, Toronto\">Swansea</a>\\n</td></tr>\\n<tr>\\n<td>M7S</td>\\n<td>Not assigned</td>\\n<td>Not assigned\\n</td></tr>\\n<tr>\\n<td>M8S</td>\\n<td>Not assigned</td>\\n<td>Not assigned\\n</td></tr>\\n<tr>\\n<td>M9S</td>\\n<td>Not assigned</td>\\n<td>Not assigned\\n</td></tr>\\n<tr>\\n<td>M1T</td>\\n<td><a href=\"/wiki/Scarborough,_Toronto\" title=\"Scarborough, Toronto\">Scarborough</a></td>\\n<td>Clarks Corners\\n</td></tr>\\n<tr>\\n<td>M1T</td>\\n<td><a href=\"/wiki/Scarborough,_Toronto\" title=\"Scarborough, Toronto\">Scarborough</a></td>\\n<td>Sullivan\\n</td></tr>\\n<tr>\\n<td>M1T</td>\\n<td><a href=\"/wiki/Scarborough,_Toronto\" title=\"Scarborough, Toronto\">Scarborough</a></td>\\n<td><a href=\"/wiki/Tam_O%27Shanter_%E2%80%93_Sullivan\" title=\"Tam O&#39;Shanter \\xe2\\x80\\x93 Sullivan\">Tam O\\'Shanter</a>\\n</td></tr>\\n<tr>\\n<td>M2T</td>\\n<td>Not assigned</td>\\n<td>Not assigned\\n</td></tr>\\n<tr>\\n<td>M3T</td>\\n<td>Not assigned</td>\\n<td>Not assigned\\n</td></tr>\\n<tr>\\n<td>M4T</td>\\n<td><a href=\"/wiki/Central_Toronto\" class=\"mw-redirect\" title=\"Central Toronto\">Central Toronto</a></td>\\n<td><a href=\"/wiki/Moore_Park,_Toronto\" title=\"Moore Park, Toronto\">Moore Park</a>\\n</td></tr>\\n<tr>\\n<td>M4T</td>\\n<td><a href=\"/wiki/Central_Toronto\" class=\"mw-redirect\" title=\"Central Toronto\">Central Toronto</a></td>\\n<td>Summerhill East\\n</td></tr>\\n<tr>\\n<td>M5T</td>\\n<td><a href=\"/wiki/Downtown_Toronto\" title=\"Downtown Toronto\">Downtown Toronto</a></td>\\n<td><a href=\"/wiki/Chinatown,_Toronto\" title=\"Chinatown, Toronto\">Chinatown</a>\\n</td></tr>\\n<tr>\\n<td>M5T</td>\\n<td><a href=\"/wiki/Downtown_Toronto\" title=\"Downtown Toronto\">Downtown Toronto</a></td>\\n<td><a href=\"/wiki/Grange_Park_(Toronto)\" title=\"Grange Park (Toronto)\">Grange Park</a>\\n</td></tr>\\n<tr>\\n<td>M5T</td>\\n<td><a href=\"/wiki/Downtown_Toronto\" title=\"Downtown Toronto\">Downtown Toronto</a></td>\\n<td><a href=\"/wiki/Kensington_Market\" title=\"Kensington Market\">Kensington Market</a>\\n</td></tr>\\n<tr>\\n<td>M6T</td>\\n<td>Not assigned</td>\\n<td>Not assigned\\n</td></tr>\\n<tr>\\n<td>M7T</td>\\n<td>Not assigned</td>\\n<td>Not assigned\\n</td></tr>\\n<tr>\\n<td>M8T</td>\\n<td>Not assigned</td>\\n<td>Not assigned\\n</td></tr>\\n<tr>\\n<td>M9T</td>\\n<td>Not assigned</td>\\n<td>Not assigned\\n</td></tr>\\n<tr>\\n<td>M1V</td>\\n<td><a href=\"/wiki/Scarborough,_Toronto\" title=\"Scarborough, Toronto\">Scarborough</a></td>\\n<td><a href=\"/wiki/Agincourt_North\" class=\"mw-redirect\" title=\"Agincourt North\">Agincourt North</a>\\n</td></tr>\\n<tr>\\n<td>M1V</td>\\n<td><a href=\"/wiki/Scarborough,_Toronto\" title=\"Scarborough, Toronto\">Scarborough</a></td>\\n<td>L\\'Amoreaux East\\n</td></tr>\\n<tr>\\n<td>M1V</td>\\n<td><a href=\"/wiki/Scarborough,_Toronto\" title=\"Scarborough, Toronto\">Scarborough</a></td>\\n<td><a href=\"/wiki/Milliken,_Ontario\" title=\"Milliken, Ontario\">Milliken</a>\\n</td></tr>\\n<tr>\\n<td>M1V</td>\\n<td><a href=\"/wiki/Scarborough,_Toronto\" title=\"Scarborough, Toronto\">Scarborough</a></td>\\n<td>Steeles East\\n</td></tr>\\n<tr>\\n<td>M2V</td>\\n<td>Not assigned</td>\\n<td>Not assigned\\n</td></tr>\\n<tr>\\n<td>M3V</td>\\n<td>Not assigned</td>\\n<td>Not assigned\\n</td></tr>\\n<tr>\\n<td>M4V</td>\\n<td><a href=\"/wiki/Central_Toronto\" class=\"mw-redirect\" title=\"Central Toronto\">Central Toronto</a></td>\\n<td><a href=\"/wiki/Deer_Park,_Toronto\" title=\"Deer Park, Toronto\">Deer Park</a>\\n</td></tr>\\n<tr>\\n<td>M4V</td>\\n<td><a href=\"/wiki/Central_Toronto\" class=\"mw-redirect\" title=\"Central Toronto\">Central Toronto</a></td>\\n<td>Forest Hill SE\\n</td></tr>\\n<tr>\\n<td>M4V</td>\\n<td><a href=\"/wiki/Central_Toronto\" class=\"mw-redirect\" title=\"Central Toronto\">Central Toronto</a></td>\\n<td><a href=\"/wiki/Rathnelly\" class=\"mw-redirect\" title=\"Rathnelly\">Rathnelly</a>\\n</td></tr>\\n<tr>\\n<td>M4V</td>\\n<td><a href=\"/wiki/Central_Toronto\" class=\"mw-redirect\" title=\"Central Toronto\">Central Toronto</a></td>\\n<td><a href=\"/wiki/South_Hill,_Toronto\" title=\"South Hill, Toronto\">South Hill</a>\\n</td></tr>\\n<tr>\\n<td>M4V</td>\\n<td><a href=\"/wiki/Central_Toronto\" class=\"mw-redirect\" title=\"Central Toronto\">Central Toronto</a></td>\\n<td>Summerhill West\\n</td></tr>\\n<tr>\\n<td>M5V</td>\\n<td><a href=\"/wiki/Downtown_Toronto\" title=\"Downtown Toronto\">Downtown Toronto</a></td>\\n<td><a href=\"/wiki/CN_Tower\" title=\"CN Tower\">CN Tower</a>\\n</td></tr>\\n<tr>\\n<td>M5V</td>\\n<td><a href=\"/wiki/Downtown_Toronto\" title=\"Downtown Toronto\">Downtown Toronto</a></td>\\n<td>Bathurst Quay\\n</td></tr>\\n<tr>\\n<td>M5V</td>\\n<td><a href=\"/wiki/Downtown_Toronto\" title=\"Downtown Toronto\">Downtown Toronto</a></td>\\n<td>Island airport\\n</td></tr>\\n<tr>\\n<td>M5V</td>\\n<td><a href=\"/wiki/Downtown_Toronto\" title=\"Downtown Toronto\">Downtown Toronto</a></td>\\n<td>Harbourfront West\\n</td></tr>\\n<tr>\\n<td>M5V</td>\\n<td><a href=\"/wiki/Downtown_Toronto\" title=\"Downtown Toronto\">Downtown Toronto</a></td>\\n<td><a href=\"/wiki/King_and_Spadina\" class=\"mw-redirect\" title=\"King and Spadina\">King and Spadina</a>\\n</td></tr>\\n<tr>\\n<td>M5V</td>\\n<td><a href=\"/wiki/Downtown_Toronto\" title=\"Downtown Toronto\">Downtown Toronto</a></td>\\n<td><a href=\"/wiki/Railway_Lands\" title=\"Railway Lands\">Railway Lands</a>\\n</td></tr>\\n<tr>\\n<td>M5V</td>\\n<td><a href=\"/wiki/Downtown_Toronto\" title=\"Downtown Toronto\">Downtown Toronto</a></td>\\n<td><a href=\"/wiki/South_Niagara\" class=\"mw-redirect\" title=\"South Niagara\">South Niagara</a>\\n</td></tr>\\n<tr>\\n<td>M6V</td>\\n<td>Not assigned</td>\\n<td>Not assigned\\n</td></tr>\\n<tr>\\n<td>M7V</td>\\n<td>Not assigned</td>\\n<td>Not assigned\\n</td></tr>\\n<tr>\\n<td>M8V</td>\\n<td><a href=\"/wiki/Etobicoke\" title=\"Etobicoke\">Etobicoke</a></td>\\n<td>Humber Bay Shores\\n</td></tr>\\n<tr>\\n<td>M8V</td>\\n<td><a href=\"/wiki/Etobicoke\" title=\"Etobicoke\">Etobicoke</a></td>\\n<td>Mimico South\\n</td></tr>\\n<tr>\\n<td>M8V</td>\\n<td><a href=\"/wiki/Etobicoke\" title=\"Etobicoke\">Etobicoke</a></td>\\n<td><a href=\"/wiki/New_Toronto\" title=\"New Toronto\">New Toronto</a>\\n</td></tr>\\n<tr>\\n<td>M9V</td>\\n<td><a href=\"/wiki/Etobicoke\" title=\"Etobicoke\">Etobicoke</a></td>\\n<td>Albion Gardens\\n</td></tr>\\n<tr>\\n<td>M9V</td>\\n<td><a href=\"/wiki/Etobicoke\" title=\"Etobicoke\">Etobicoke</a></td>\\n<td><a href=\"/wiki/Beaumond_Heights\" class=\"mw-redirect\" title=\"Beaumond Heights\">Beaumond Heights</a>\\n</td></tr>\\n<tr>\\n<td>M9V</td>\\n<td><a href=\"/wiki/Etobicoke\" title=\"Etobicoke\">Etobicoke</a></td>\\n<td>Humbergate\\n</td></tr>\\n<tr>\\n<td>M9V</td>\\n<td><a href=\"/wiki/Etobicoke\" title=\"Etobicoke\">Etobicoke</a></td>\\n<td><a href=\"/wiki/Mount_Olive-Silverstone-Jamestown\" class=\"mw-redirect\" title=\"Mount Olive-Silverstone-Jamestown\">Jamestown</a>\\n</td></tr>\\n<tr>\\n<td>M9V</td>\\n<td><a href=\"/wiki/Etobicoke\" title=\"Etobicoke\">Etobicoke</a></td>\\n<td><a href=\"/wiki/Mount_Olive-Silverstone-Jamestown\" class=\"mw-redirect\" title=\"Mount Olive-Silverstone-Jamestown\">Mount Olive</a>\\n</td></tr>\\n<tr>\\n<td>M9V</td>\\n<td><a href=\"/wiki/Etobicoke\" title=\"Etobicoke\">Etobicoke</a></td>\\n<td><a href=\"/wiki/Silverstone,_Toronto\" class=\"mw-redirect\" title=\"Silverstone, Toronto\">Silverstone</a>\\n</td></tr>\\n<tr>\\n<td>M9V</td>\\n<td><a href=\"/wiki/Etobicoke\" title=\"Etobicoke\">Etobicoke</a></td>\\n<td><a href=\"/wiki/South_Steeles\" class=\"mw-redirect\" title=\"South Steeles\">South Steeles</a>\\n</td></tr>\\n<tr>\\n<td>M9V</td>\\n<td><a href=\"/wiki/Etobicoke\" title=\"Etobicoke\">Etobicoke</a></td>\\n<td><a href=\"/wiki/Thistletown\" title=\"Thistletown\">Thistletown</a>\\n</td></tr>\\n<tr>\\n<td>M1W</td>\\n<td><a href=\"/wiki/Scarborough,_Toronto\" title=\"Scarborough, Toronto\">Scarborough</a></td>\\n<td>L\\'Amoreaux West\\n</td></tr>\\n<tr>\\n<td>M2W</td>\\n<td>Not assigned</td>\\n<td>Not assigned\\n</td></tr>\\n<tr>\\n<td>M3W</td>\\n<td>Not assigned</td>\\n<td>Not assigned\\n</td></tr>\\n<tr>\\n<td>M4W</td>\\n<td><a href=\"/wiki/Downtown_Toronto\" title=\"Downtown Toronto\">Downtown Toronto</a></td>\\n<td><a href=\"/wiki/Rosedale,_Toronto\" title=\"Rosedale, Toronto\">Rosedale</a>\\n</td></tr>\\n<tr>\\n<td>M5W</td>\\n<td><a href=\"/wiki/Downtown_Toronto\" title=\"Downtown Toronto\">Downtown Toronto</a></td>\\n<td>Stn A PO Boxes 25 The Esplanade\\n</td></tr>\\n<tr>\\n<td>M6W</td>\\n<td>Not assigned</td>\\n<td>Not assigned\\n</td></tr>\\n<tr>\\n<td>M7W</td>\\n<td>Not assigned</td>\\n<td>Not assigned\\n</td></tr>\\n<tr>\\n<td>M8W</td>\\n<td><a href=\"/wiki/Etobicoke\" title=\"Etobicoke\">Etobicoke</a></td>\\n<td><a href=\"/wiki/Alderwood,_Toronto\" title=\"Alderwood, Toronto\">Alderwood</a>\\n</td></tr>\\n<tr>\\n<td>M8W</td>\\n<td><a href=\"/wiki/Etobicoke\" title=\"Etobicoke\">Etobicoke</a></td>\\n<td><a href=\"/wiki/Long_Branch,_Toronto\" title=\"Long Branch, Toronto\">Long Branch</a>\\n</td></tr>\\n<tr>\\n<td>M9W</td>\\n<td><a href=\"/wiki/Etobicoke\" title=\"Etobicoke\">Etobicoke</a></td>\\n<td>Northwest\\n</td></tr>\\n<tr>\\n<td>M1X</td>\\n<td><a href=\"/wiki/Scarborough,_Toronto\" title=\"Scarborough, Toronto\">Scarborough</a></td>\\n<td><a href=\"/wiki/Upper_Rouge\" class=\"mw-redirect\" title=\"Upper Rouge\">Upper Rouge</a>\\n</td></tr>\\n<tr>\\n<td>M2X</td>\\n<td>Not assigned</td>\\n<td>Not assigned\\n</td></tr>\\n<tr>\\n<td>M3X</td>\\n<td>Not assigned</td>\\n<td>Not assigned\\n</td></tr>\\n<tr>\\n<td>M4X</td>\\n<td><a href=\"/wiki/Downtown_Toronto\" title=\"Downtown Toronto\">Downtown Toronto</a></td>\\n<td><a href=\"/wiki/Cabbagetown,_Toronto\" title=\"Cabbagetown, Toronto\">Cabbagetown</a>\\n</td></tr>\\n<tr>\\n<td>M4X</td>\\n<td><a href=\"/wiki/Downtown_Toronto\" title=\"Downtown Toronto\">Downtown Toronto</a></td>\\n<td><a href=\"/wiki/St._James_Town\" title=\"St. James Town\">St. James Town</a>\\n</td></tr>\\n<tr>\\n<td>M5X</td>\\n<td><a href=\"/wiki/Downtown_Toronto\" title=\"Downtown Toronto\">Downtown Toronto</a></td>\\n<td><a href=\"/wiki/First_Canadian_Place\" title=\"First Canadian Place\">First Canadian Place</a>\\n</td></tr>\\n<tr>\\n<td>M5X</td>\\n<td><a href=\"/wiki/Downtown_Toronto\" title=\"Downtown Toronto\">Downtown Toronto</a></td>\\n<td><a href=\"/wiki/Underground_city\" title=\"Underground city\">Underground city</a>\\n</td></tr>\\n<tr>\\n<td>M6X</td>\\n<td>Not assigned</td>\\n<td>Not assigned\\n</td></tr>\\n<tr>\\n<td>M7X</td>\\n<td>Not assigned</td>\\n<td>Not assigned\\n</td></tr>\\n<tr>\\n<td>M8X</td>\\n<td><a href=\"/wiki/Etobicoke\" title=\"Etobicoke\">Etobicoke</a></td>\\n<td><a href=\"/wiki/The_Kingsway\" title=\"The Kingsway\">The Kingsway</a>\\n</td></tr>\\n<tr>\\n<td>M8X</td>\\n<td><a href=\"/wiki/Etobicoke\" title=\"Etobicoke\">Etobicoke</a></td>\\n<td>Montgomery Road\\n</td></tr>\\n<tr>\\n<td>M8X</td>\\n<td><a href=\"/wiki/Etobicoke\" title=\"Etobicoke\">Etobicoke</a></td>\\n<td>Old Mill North\\n</td></tr>\\n<tr>\\n<td>M9X</td>\\n<td>Not assigned</td>\\n<td>Not assigned\\n</td></tr>\\n<tr>\\n<td>M1Y</td>\\n<td>Not assigned</td>\\n<td>Not assigned\\n</td></tr>\\n<tr>\\n<td>M2Y</td>\\n<td>Not assigned</td>\\n<td>Not assigned\\n</td></tr>\\n<tr>\\n<td>M3Y</td>\\n<td>Not assigned</td>\\n<td>Not assigned\\n</td></tr>\\n<tr>\\n<td>M4Y</td>\\n<td><a href=\"/wiki/Downtown_Toronto\" title=\"Downtown Toronto\">Downtown Toronto</a></td>\\n<td><a href=\"/wiki/Church_and_Wellesley\" title=\"Church and Wellesley\">Church and Wellesley</a>\\n</td></tr>\\n<tr>\\n<td>M5Y</td>\\n<td>Not assigned</td>\\n<td>Not assigned\\n</td></tr>\\n<tr>\\n<td>M6Y</td>\\n<td>Not assigned</td>\\n<td>Not assigned\\n</td></tr>\\n<tr>\\n<td>M7Y</td>\\n<td><a href=\"/wiki/East_Toronto\" title=\"East Toronto\">East Toronto</a></td>\\n<td>Business Reply Mail Processing Centre 969 Eastern\\n</td></tr>\\n<tr>\\n<td>M8Y</td>\\n<td><a href=\"/wiki/Etobicoke\" title=\"Etobicoke\">Etobicoke</a></td>\\n<td><a href=\"/wiki/Humber_Bay\" title=\"Humber Bay\">Humber Bay</a>\\n</td></tr>\\n<tr>\\n<td>M8Y</td>\\n<td><a href=\"/wiki/Etobicoke\" title=\"Etobicoke\">Etobicoke</a></td>\\n<td>King\\'s Mill Park\\n</td></tr>\\n<tr>\\n<td>M8Y</td>\\n<td><a href=\"/wiki/Etobicoke\" title=\"Etobicoke\">Etobicoke</a></td>\\n<td>Kingsway Park South East\\n</td></tr>\\n<tr>\\n<td>M8Y</td>\\n<td><a href=\"/wiki/Etobicoke\" title=\"Etobicoke\">Etobicoke</a></td>\\n<td><a href=\"/wiki/Mimico\" title=\"Mimico\">Mimico NE</a>\\n</td></tr>\\n<tr>\\n<td>M8Y</td>\\n<td><a href=\"/wiki/Etobicoke\" title=\"Etobicoke\">Etobicoke</a></td>\\n<td><a href=\"/wiki/Old_Mill,_Toronto\" title=\"Old Mill, Toronto\">Old Mill South</a>\\n</td></tr>\\n<tr>\\n<td>M8Y</td>\\n<td><a href=\"/wiki/Etobicoke\" title=\"Etobicoke\">Etobicoke</a></td>\\n<td><a href=\"/wiki/The_Queensway\" title=\"The Queensway\">The Queensway East</a>\\n</td></tr>\\n<tr>\\n<td>M8Y</td>\\n<td><a href=\"/wiki/Etobicoke\" title=\"Etobicoke\">Etobicoke</a></td>\\n<td><a href=\"/wiki/Fairmont_Royal_York_Hotel\" class=\"mw-redirect\" title=\"Fairmont Royal York Hotel\">Royal York South East</a>\\n</td></tr>\\n<tr>\\n<td>M8Y</td>\\n<td><a href=\"/wiki/Etobicoke\" title=\"Etobicoke\">Etobicoke</a></td>\\n<td><a href=\"/wiki/Sunnylea\" class=\"mw-redirect\" title=\"Sunnylea\">Sunnylea</a>\\n</td></tr>\\n<tr>\\n<td>M9Y</td>\\n<td>Not assigned</td>\\n<td>Not assigned\\n</td></tr>\\n<tr>\\n<td>M1Z</td>\\n<td>Not assigned</td>\\n<td>Not assigned\\n</td></tr>\\n<tr>\\n<td>M2Z</td>\\n<td>Not assigned</td>\\n<td>Not assigned\\n</td></tr>\\n<tr>\\n<td>M3Z</td>\\n<td>Not assigned</td>\\n<td>Not assigned\\n</td></tr>\\n<tr>\\n<td>M4Z</td>\\n<td>Not assigned</td>\\n<td>Not assigned\\n</td></tr>\\n<tr>\\n<td>M5Z</td>\\n<td>Not assigned</td>\\n<td>Not assigned\\n</td></tr>\\n<tr>\\n<td>M6Z</td>\\n<td>Not assigned</td>\\n<td>Not assigned\\n</td></tr>\\n<tr>\\n<td>M7Z</td>\\n<td>Not assigned</td>\\n<td>Not assigned\\n</td></tr>\\n<tr>\\n<td>M8Z</td>\\n<td><a href=\"/wiki/Etobicoke\" title=\"Etobicoke\">Etobicoke</a></td>\\n<td>Kingsway Park South West\\n</td></tr>\\n<tr>\\n<td>M8Z</td>\\n<td><a href=\"/wiki/Etobicoke\" title=\"Etobicoke\">Etobicoke</a></td>\\n<td><a href=\"/wiki/Mimico\" title=\"Mimico\">Mimico NW</a>\\n</td></tr>\\n<tr>\\n<td>M8Z</td>\\n<td><a href=\"/wiki/Etobicoke\" title=\"Etobicoke\">Etobicoke</a></td>\\n<td><a href=\"/wiki/The_Queensway\" title=\"The Queensway\">The Queensway West</a>\\n</td></tr>\\n<tr>\\n<td>M8Z</td>\\n<td><a href=\"/wiki/Etobicoke\" title=\"Etobicoke\">Etobicoke</a></td>\\n<td>Royal York South West\\n</td></tr>\\n<tr>\\n<td>M8Z</td>\\n<td><a href=\"/wiki/Etobicoke\" title=\"Etobicoke\">Etobicoke</a></td>\\n<td>South of Bloor\\n</td></tr>\\n<tr>\\n<td>M9Z</td>\\n<td>Not assigned</td>\\n<td>Not assigned\\n</td></tr>\\n</tbody></table>\\n<div>\\n<table class=\"multicol\" role=\"presentation\" style=\"border-collapse: collapse; padding: 0; border: 0; background:transparent; width:100%;\">\\n\\n</table><h2><span id=\"Most_populated_FSAs.5B3.5D\"></span><span class=\"mw-headline\" id=\"Most_populated_FSAs[3]\">Most populated FSAs<sup id=\"cite_ref-statcan_3-0\" class=\"reference\"><a href=\"#cite_note-statcan-3\">&#91;3&#93;</a></sup></span><span class=\"mw-editsection\"><span class=\"mw-editsection-bracket\">[</span><a href=\"/w/index.php?title=List_of_postal_codes_of_Canada:_M&amp;action=edit&amp;section=2\" title=\"Edit section: Most populated FSAs[3]\">edit</a><span class=\"mw-editsection-bracket\">]</span></span></h2><ol><li>M1B, 65,129</li>\\n<li>M2N, 60,124</li>\\n<li>M1V, 55,250</li>\\n<li>M9V, 55,159</li>\\n<li>M2J, 54,391</li></ol><p>&#32;\\n</p><table rules=\"all\" cellspacing=\"0\" cellpadding=\"2\" style=\"width:100%; border-collapse:collapse; border:1px solid #ccc;\">\\n\\n\\n\\n\\n<tbody><tr><td></td></tr></tbody></table></div>\\n<p>&#32;\\n</p>\\n\\n\\n<h2><span id=\"Least_populated_FSAs.5B3.5D\"></span><span class=\"mw-headline\" id=\"Least_populated_FSAs[3]\">Least populated FSAs<sup id=\"cite_ref-statcan_3-1\" class=\"reference\"><a href=\"#cite_note-statcan-3\">&#91;3&#93;</a></sup></span><span class=\"mw-editsection\"><span class=\"mw-editsection-bracket\">[</span><a href=\"/w/index.php?title=List_of_postal_codes_of_Canada:_M&amp;action=edit&amp;section=3\" title=\"Edit section: Least populated FSAs[3]\">edit</a><span class=\"mw-editsection-bracket\">]</span></span></h2>\\n<ol><li>M5K, 5</li>\\n<li>M5L, 5</li>\\n<li>M5W, 5</li>\\n<li>M5X, 5</li>\\n<li>M7A, 5</li></ol>\\n<p>&#32;\\n</p>\\n\\n<h2><span class=\"mw-headline\" id=\"References\">References</span><span class=\"mw-editsection\"><span class=\"mw-editsection-bracket\">[</span><a href=\"/w/index.php?title=List_of_postal_codes_of_Canada:_M&amp;action=edit&amp;section=4\" title=\"Edit section: References\">edit</a><span class=\"mw-editsection-bracket\">]</span></span></h2>\\n<div class=\"mw-references-wrap\"><ol class=\"references\">\\n<li id=\"cite_note-1\"><span class=\"mw-cite-backlink\"><b><a href=\"#cite_ref-1\">^</a></b></span> <span class=\"reference-text\">\\n<cite class=\"citation web\">Canada Post. <a rel=\"nofollow\" class=\"external text\" href=\"https://www.canadapost.ca/cpotools/apps/fpc/personal/findByCity?execution=e2s1\">\"Canada Post - Find a Postal Code\"</a><span class=\"reference-accessdate\">. Retrieved <span class=\"nowrap\">9 November</span> 2008</span>.</cite><span title=\"ctx_ver=Z39.88-2004&amp;rft_val_fmt=info%3Aofi%2Ffmt%3Akev%3Amtx%3Abook&amp;rft.genre=unknown&amp;rft.btitle=Canada+Post+-+Find+a+Postal+Code&amp;rft.au=Canada+Post&amp;rft_id=https%3A%2F%2Fwww.canadapost.ca%2Fcpotools%2Fapps%2Ffpc%2Fpersonal%2FfindByCity%3Fexecution%3De2s1&amp;rfr_id=info%3Asid%2Fen.wikipedia.org%3AList+of+postal+codes+of+Canada%3A+M\" class=\"Z3988\"></span><style data-mw-deduplicate=\"TemplateStyles:r886058088\">.mw-parser-output cite.citation{font-style:inherit}.mw-parser-output .citation q{quotes:\"\\\\\"\"\"\\\\\"\"\"\\'\"\"\\'\"}.mw-parser-output .citation .cs1-lock-free a{background:url(\"//upload.wikimedia.org/wikipedia/commons/thumb/6/65/Lock-green.svg/9px-Lock-green.svg.png\")no-repeat;background-position:right .1em center}.mw-parser-output .citation .cs1-lock-limited a,.mw-parser-output .citation .cs1-lock-registration a{background:url(\"//upload.wikimedia.org/wikipedia/commons/thumb/d/d6/Lock-gray-alt-2.svg/9px-Lock-gray-alt-2.svg.png\")no-repeat;background-position:right .1em center}.mw-parser-output .citation .cs1-lock-subscription a{background:url(\"//upload.wikimedia.org/wikipedia/commons/thumb/a/aa/Lock-red-alt-2.svg/9px-Lock-red-alt-2.svg.png\")no-repeat;background-position:right .1em center}.mw-parser-output .cs1-subscription,.mw-parser-output .cs1-registration{color:#555}.mw-parser-output .cs1-subscription span,.mw-parser-output .cs1-registration span{border-bottom:1px dotted;cursor:help}.mw-parser-output .cs1-ws-icon a{background:url(\"//upload.wikimedia.org/wikipedia/commons/thumb/4/4c/Wikisource-logo.svg/12px-Wikisource-logo.svg.png\")no-repeat;background-position:right .1em center}.mw-parser-output code.cs1-code{color:inherit;background:inherit;border:inherit;padding:inherit}.mw-parser-output .cs1-hidden-error{display:none;font-size:100%}.mw-parser-output .cs1-visible-error{font-size:100%}.mw-parser-output .cs1-maint{display:none;color:#33aa33;margin-left:0.3em}.mw-parser-output .cs1-subscription,.mw-parser-output .cs1-registration,.mw-parser-output .cs1-format{font-size:95%}.mw-parser-output .cs1-kern-left,.mw-parser-output .cs1-kern-wl-left{padding-left:0.2em}.mw-parser-output .cs1-kern-right,.mw-parser-output .cs1-kern-wl-right{padding-right:0.2em}</style></span>\\n</li>\\n<li id=\"cite_note-2\"><span class=\"mw-cite-backlink\"><b><a href=\"#cite_ref-2\">^</a></b></span> <span class=\"reference-text\"><cite class=\"citation web\"><a rel=\"nofollow\" class=\"external text\" href=\"https://web.archive.org/web/20110519093024/http://www.canadapost.ca/cpo/mc/personal/tools/mobileapp/default.jsf\">\"Mobile Apps\"</a>. Canada Post. Archived from <a rel=\"nofollow\" class=\"external text\" href=\"http://www.canadapost.ca/cpo/mc/personal/tools/mobileapp/default.jsf\">the original</a> on 2011-05-19.</cite><span title=\"ctx_ver=Z39.88-2004&amp;rft_val_fmt=info%3Aofi%2Ffmt%3Akev%3Amtx%3Abook&amp;rft.genre=unknown&amp;rft.btitle=Mobile+Apps&amp;rft.pub=Canada+Post&amp;rft_id=http%3A%2F%2Fwww.canadapost.ca%2Fcpo%2Fmc%2Fpersonal%2Ftools%2Fmobileapp%2Fdefault.jsf&amp;rfr_id=info%3Asid%2Fen.wikipedia.org%3AList+of+postal+codes+of+Canada%3A+M\" class=\"Z3988\"></span><link rel=\"mw-deduplicated-inline-style\" href=\"mw-data:TemplateStyles:r886058088\"/></span>\\n</li>\\n<li id=\"cite_note-statcan-3\"><span class=\"mw-cite-backlink\">^ <a href=\"#cite_ref-statcan_3-0\"><sup><i><b>a</b></i></sup></a> <a href=\"#cite_ref-statcan_3-1\"><sup><i><b>b</b></i></sup></a></span> <span class=\"reference-text\"><cite class=\"citation web\"><a rel=\"nofollow\" class=\"external text\" href=\"http://www12.statcan.ca/english/census06/data/popdwell/Table.cfm?T=1201&amp;SR=1&amp;S=0&amp;O=A&amp;RPP=9999&amp;PR=0&amp;CMA=0\">\"2006 Census of Population\"</a>. 15 October 2008.</cite><span title=\"ctx_ver=Z39.88-2004&amp;rft_val_fmt=info%3Aofi%2Ffmt%3Akev%3Amtx%3Abook&amp;rft.genre=unknown&amp;rft.btitle=2006+Census+of+Population&amp;rft.date=2008-10-15&amp;rft_id=http%3A%2F%2Fwww12.statcan.ca%2Fenglish%2Fcensus06%2Fdata%2Fpopdwell%2FTable.cfm%3FT%3D1201%26SR%3D1%26S%3D0%26O%3DA%26RPP%3D9999%26PR%3D0%26CMA%3D0&amp;rfr_id=info%3Asid%2Fen.wikipedia.org%3AList+of+postal+codes+of+Canada%3A+M\" class=\"Z3988\"></span><link rel=\"mw-deduplicated-inline-style\" href=\"mw-data:TemplateStyles:r886058088\"/></span>\\n</li>\\n</ol></div>\\n<table class=\"navbox\">\\n<tbody><tr>\\n<td style=\"width:36px; text-align:center\"><a href=\"/wiki/File:Flag_of_Canada.svg\" class=\"image\" title=\"Flag of Canada\"><img alt=\"Flag of Canada\" src=\"//upload.wikimedia.org/wikipedia/en/thumb/c/cf/Flag_of_Canada.svg/36px-Flag_of_Canada.svg.png\" decoding=\"async\" width=\"36\" height=\"18\" srcset=\"//upload.wikimedia.org/wikipedia/en/thumb/c/cf/Flag_of_Canada.svg/54px-Flag_of_Canada.svg.png 1.5x, //upload.wikimedia.org/wikipedia/en/thumb/c/cf/Flag_of_Canada.svg/72px-Flag_of_Canada.svg.png 2x\" data-file-width=\"1200\" data-file-height=\"600\" /></a>\\n</td>\\n<th class=\"navbox-title\" style=\"font-size:110%\"><a href=\"/wiki/Postal_codes_in_Canada\" title=\"Postal codes in Canada\">Canadian postal codes</a>\\n</th>\\n<td style=\"width:36px; text-align:center\"><a href=\"/wiki/File:Canadian_postal_district_map_(without_legends).svg\" class=\"image\"><img alt=\"Canadian postal district map (without legends).svg\" src=\"//upload.wikimedia.org/wikipedia/commons/thumb/e/eb/Canadian_postal_district_map_%28without_legends%29.svg/21px-Canadian_postal_district_map_%28without_legends%29.svg.png\" decoding=\"async\" width=\"21\" height=\"18\" srcset=\"//upload.wikimedia.org/wikipedia/commons/thumb/e/eb/Canadian_postal_district_map_%28without_legends%29.svg/32px-Canadian_postal_district_map_%28without_legends%29.svg.png 1.5x, //upload.wikimedia.org/wikipedia/commons/thumb/e/eb/Canadian_postal_district_map_%28without_legends%29.svg/43px-Canadian_postal_district_map_%28without_legends%29.svg.png 2x\" data-file-width=\"1000\" data-file-height=\"846\" /></a>\\n</td></tr>\\n<tr>\\n<td style=\"text-align:center; font-size: 100%;\" colspan=\"3\">\\n<table width=\"100%\" style=\"background-color: #F8F8F8;\" cellspacing=\"0\">\\n<tbody><tr>\\n<td style=\"text-align:center; border:1px solid #aaa;\"><a href=\"/wiki/Newfoundland_and_Labrador\" title=\"Newfoundland and Labrador\">NL</a>\\n</td>\\n<td style=\"text-align:center; border:1px solid #aaa;\"><a href=\"/wiki/Nova_Scotia\" title=\"Nova Scotia\">NS</a>\\n</td>\\n<td style=\"text-align:center; border:1px solid #aaa;\"><a href=\"/wiki/Prince_Edward_Island\" title=\"Prince Edward Island\">PE</a>\\n</td>\\n<td style=\"text-align:center; border:1px solid #aaa;\"><a href=\"/wiki/New_Brunswick\" title=\"New Brunswick\">NB</a>\\n</td>\\n<td style=\"text-align:center; border:1px solid #aaa;\" colspan=\"3\"><a href=\"/wiki/Quebec\" title=\"Quebec\">QC</a>\\n</td>\\n<td style=\"text-align:center; border:1px solid #aaa;\" colspan=\"5\"><a href=\"/wiki/Ontario\" title=\"Ontario\">ON</a>\\n</td>\\n<td style=\"text-align:center; border:1px solid #aaa;\"><a href=\"/wiki/Manitoba\" title=\"Manitoba\">MB</a>\\n</td>\\n<td style=\"text-align:center; border:1px solid #aaa;\"><a href=\"/wiki/Saskatchewan\" title=\"Saskatchewan\">SK</a>\\n</td>\\n<td style=\"text-align:center; border:1px solid #aaa;\"><a href=\"/wiki/Alberta\" title=\"Alberta\">AB</a>\\n</td>\\n<td style=\"text-align:center; border:1px solid #aaa;\"><a href=\"/wiki/British_Columbia\" title=\"British Columbia\">BC</a>\\n</td>\\n<td style=\"text-align:center; border:1px solid #aaa;\"><a href=\"/wiki/Nunavut\" title=\"Nunavut\">NU</a>/<a href=\"/wiki/Northwest_Territories\" title=\"Northwest Territories\">NT</a>\\n</td>\\n<td style=\"text-align:center; border:1px solid #aaa;\"><a href=\"/wiki/Yukon\" title=\"Yukon\">YT</a>\\n</td></tr>\\n<tr>\\n<td style=\"border: 1px solid #FF0000; background-color: #FFE0E0; font-size: 135%;\" align=\"center\" width=\"5%\"><a href=\"/wiki/List_of_postal_codes_of_Canada:_A\" title=\"List of postal codes of Canada: A\">A</a>\\n</td>\\n<td style=\"border: 1px solid #FF4000; background-color: #FFE8E0; font-size: 135%;\" align=\"center\" width=\"5%\"><a href=\"/wiki/List_of_postal_codes_of_Canada:_B\" title=\"List of postal codes of Canada: B\">B</a>\\n</td>\\n<td style=\"border: 1px solid #FF8000; background-color: #FFF0E0; font-size: 135%;\" align=\"center\" width=\"5%\"><a href=\"/wiki/List_of_postal_codes_of_Canada:_C\" title=\"List of postal codes of Canada: C\">C</a>\\n</td>\\n<td style=\"border: 1px solid #FFC000; background-color: #FFF8E0; font-size: 135%;\" align=\"center\" width=\"5%\"><a href=\"/wiki/List_of_postal_codes_of_Canada:_E\" title=\"List of postal codes of Canada: E\">E</a>\\n</td>\\n<td style=\"border: 1px solid #FFFF00; background-color: #FFFFE0; font-size: 135%;\" align=\"center\" width=\"5%\"><a href=\"/wiki/List_of_postal_codes_of_Canada:_G\" title=\"List of postal codes of Canada: G\">G</a>\\n</td>\\n<td style=\"border: 1px solid #C0FF00; background-color: #F8FFE0; font-size: 135%;\" align=\"center\" width=\"5%\"><a href=\"/wiki/List_of_postal_codes_of_Canada:_H\" title=\"List of postal codes of Canada: H\">H</a>\\n</td>\\n<td style=\"border: 1px solid #80FF00; background-color: #F0FFE0; font-size: 135%;\" align=\"center\" width=\"5%\"><a href=\"/wiki/List_of_postal_codes_of_Canada:_J\" title=\"List of postal codes of Canada: J\">J</a>\\n</td>\\n<td style=\"border: 1px solid #00FF00; background-color: #E0FFE0; font-size: 135%;\" align=\"center\" width=\"5%\"><a href=\"/wiki/List_of_postal_codes_of_Canada:_K\" title=\"List of postal codes of Canada: K\">K</a>\\n</td>\\n<td style=\"border: 1px solid #00FF80; background-color: #E0FFF0; font-size: 135%;\" align=\"center\" width=\"5%\"><a href=\"/wiki/List_of_postal_codes_of_Canada:_L\" title=\"List of postal codes of Canada: L\">L</a>\\n</td>\\n<td style=\"border: 1px solid #E0FFF8; background-color: #00FFC0; font-size: 135%; color: black;\" align=\"center\" width=\"5%\"><a class=\"mw-selflink selflink\">M</a>\\n</td>\\n<td style=\"border: 1px solid #00FFE0; background-color: #E0FFFC; font-size: 135%;\" align=\"center\" width=\"5%\"><a href=\"/wiki/List_of_postal_codes_of_Canada:_N\" title=\"List of postal codes of Canada: N\">N</a>\\n</td>\\n<td style=\"border: 1px solid #00FFFF; background-color: #E0FFFF; font-size: 135%;\" align=\"center\" width=\"5%\"><a href=\"/wiki/List_of_postal_codes_of_Canada:_P\" title=\"List of postal codes of Canada: P\">P</a>\\n</td>\\n<td style=\"border: 1px solid #00C0FF; background-color: #E0F8FF; font-size: 135%;\" align=\"center\" width=\"5%\"><a href=\"/wiki/List_of_postal_codes_of_Canada:_R\" title=\"List of postal codes of Canada: R\">R</a>\\n</td>\\n<td style=\"border: 1px solid #0080FF; background-color: #E0F0FF; font-size: 135%;\" align=\"center\" width=\"5%\"><a href=\"/wiki/List_of_postal_codes_of_Canada:_S\" title=\"List of postal codes of Canada: S\">S</a>\\n</td>\\n<td style=\"border: 1px solid #0040FF; background-color: #E0E8FF; font-size: 135%;\" align=\"center\" width=\"5%\"><a href=\"/wiki/List_of_postal_codes_of_Canada:_T\" title=\"List of postal codes of Canada: T\">T</a>\\n</td>\\n<td style=\"border: 1px solid #0000FF; background-color: #E0E0FF; font-size: 135%;\" align=\"center\" width=\"5%\"><a href=\"/wiki/List_of_postal_codes_of_Canada:_V\" title=\"List of postal codes of Canada: V\">V</a>\\n</td>\\n<td style=\"border: 1px solid #A000FF; background-color: #E8E0FF; font-size: 135%;\" align=\"center\" width=\"5%\"><a href=\"/wiki/List_of_postal_codes_of_Canada:_X\" title=\"List of postal codes of Canada: X\">X</a>\\n</td>\\n<td style=\"border: 1px solid #FF00FF; background-color: #FFE0FF; font-size: 135%;\" align=\"center\" width=\"5%\"><a href=\"/wiki/List_of_postal_codes_of_Canada:_Y\" title=\"List of postal codes of Canada: Y\">Y</a>\\n</td></tr></tbody></table>\\n</td></tr></tbody></table></div>'"
      ]
     },
     "execution_count": 6,
     "metadata": {},
     "output_type": "execute_result"
    }
   ],
   "source": [
    "html = wp.page(\"List of postal codes of Canada: M\").html().encode(\"UTF-8\")\n",
    "html"
   ]
  },
  {
   "cell_type": "markdown",
   "metadata": {},
   "source": [
    "Now as we see in that html the required table is at 0 index so we get the table by:"
   ]
  },
  {
   "cell_type": "code",
   "execution_count": 18,
   "metadata": {},
   "outputs": [
    {
     "data": {
      "text/html": [
       "<div>\n",
       "<style scoped>\n",
       "    .dataframe tbody tr th:only-of-type {\n",
       "        vertical-align: middle;\n",
       "    }\n",
       "\n",
       "    .dataframe tbody tr th {\n",
       "        vertical-align: top;\n",
       "    }\n",
       "\n",
       "    .dataframe thead th {\n",
       "        text-align: right;\n",
       "    }\n",
       "</style>\n",
       "<table border=\"1\" class=\"dataframe\">\n",
       "  <thead>\n",
       "    <tr style=\"text-align: right;\">\n",
       "      <th></th>\n",
       "      <th>Postcode</th>\n",
       "      <th>Borough</th>\n",
       "      <th>Neighbourhood</th>\n",
       "    </tr>\n",
       "  </thead>\n",
       "  <tbody>\n",
       "    <tr>\n",
       "      <th>0</th>\n",
       "      <td>M1A</td>\n",
       "      <td>Not assigned</td>\n",
       "      <td>Not assigned</td>\n",
       "    </tr>\n",
       "    <tr>\n",
       "      <th>1</th>\n",
       "      <td>M2A</td>\n",
       "      <td>Not assigned</td>\n",
       "      <td>Not assigned</td>\n",
       "    </tr>\n",
       "    <tr>\n",
       "      <th>2</th>\n",
       "      <td>M3A</td>\n",
       "      <td>North York</td>\n",
       "      <td>Parkwoods</td>\n",
       "    </tr>\n",
       "    <tr>\n",
       "      <th>3</th>\n",
       "      <td>M4A</td>\n",
       "      <td>North York</td>\n",
       "      <td>Victoria Village</td>\n",
       "    </tr>\n",
       "    <tr>\n",
       "      <th>4</th>\n",
       "      <td>M5A</td>\n",
       "      <td>Downtown Toronto</td>\n",
       "      <td>Harbourfront</td>\n",
       "    </tr>\n",
       "  </tbody>\n",
       "</table>\n",
       "</div>"
      ],
      "text/plain": [
       "  Postcode           Borough     Neighbourhood\n",
       "0      M1A      Not assigned      Not assigned\n",
       "1      M2A      Not assigned      Not assigned\n",
       "2      M3A        North York         Parkwoods\n",
       "3      M4A        North York  Victoria Village\n",
       "4      M5A  Downtown Toronto      Harbourfront"
      ]
     },
     "execution_count": 18,
     "metadata": {},
     "output_type": "execute_result"
    }
   ],
   "source": [
    "df = pd.read_html(html, header = 0)[0]\n",
    "df.head()"
   ]
  },
  {
   "cell_type": "markdown",
   "metadata": {},
   "source": [
    "To remove all the cells with not-assigned values we use:"
   ]
  },
  {
   "cell_type": "code",
   "execution_count": 17,
   "metadata": {},
   "outputs": [
    {
     "data": {
      "text/html": [
       "<div>\n",
       "<style scoped>\n",
       "    .dataframe tbody tr th:only-of-type {\n",
       "        vertical-align: middle;\n",
       "    }\n",
       "\n",
       "    .dataframe tbody tr th {\n",
       "        vertical-align: top;\n",
       "    }\n",
       "\n",
       "    .dataframe thead th {\n",
       "        text-align: right;\n",
       "    }\n",
       "</style>\n",
       "<table border=\"1\" class=\"dataframe\">\n",
       "  <thead>\n",
       "    <tr style=\"text-align: right;\">\n",
       "      <th></th>\n",
       "      <th>Postcode</th>\n",
       "      <th>Borough</th>\n",
       "      <th>Neighbourhood</th>\n",
       "    </tr>\n",
       "  </thead>\n",
       "  <tbody>\n",
       "    <tr>\n",
       "      <th>0</th>\n",
       "      <td>M1B</td>\n",
       "      <td>Scarborough</td>\n",
       "      <td>Rouge, Malvern</td>\n",
       "    </tr>\n",
       "    <tr>\n",
       "      <th>1</th>\n",
       "      <td>M1C</td>\n",
       "      <td>Scarborough</td>\n",
       "      <td>Highland Creek, Rouge Hill, Port Union</td>\n",
       "    </tr>\n",
       "    <tr>\n",
       "      <th>2</th>\n",
       "      <td>M1E</td>\n",
       "      <td>Scarborough</td>\n",
       "      <td>Guildwood, Morningside, West Hill</td>\n",
       "    </tr>\n",
       "    <tr>\n",
       "      <th>3</th>\n",
       "      <td>M1G</td>\n",
       "      <td>Scarborough</td>\n",
       "      <td>Woburn</td>\n",
       "    </tr>\n",
       "    <tr>\n",
       "      <th>4</th>\n",
       "      <td>M1H</td>\n",
       "      <td>Scarborough</td>\n",
       "      <td>Cedarbrae</td>\n",
       "    </tr>\n",
       "  </tbody>\n",
       "</table>\n",
       "</div>"
      ],
      "text/plain": [
       "  Postcode      Borough                           Neighbourhood\n",
       "0      M1B  Scarborough                          Rouge, Malvern\n",
       "1      M1C  Scarborough  Highland Creek, Rouge Hill, Port Union\n",
       "2      M1E  Scarborough       Guildwood, Morningside, West Hill\n",
       "3      M1G  Scarborough                                  Woburn\n",
       "4      M1H  Scarborough                               Cedarbrae"
      ]
     },
     "execution_count": 17,
     "metadata": {},
     "output_type": "execute_result"
    }
   ],
   "source": [
    "df = df[df.Borough != 'Not assigned']\n",
    "df.head()"
   ]
  },
  {
   "cell_type": "markdown",
   "metadata": {},
   "source": [
    "As More than one neighborhood can exist in one postal code area. So the two neighnourhoods will be combined into one row with the neighborhoods separated with a comma as shown in row 11 in the above table."
   ]
  },
  {
   "cell_type": "code",
   "execution_count": 16,
   "metadata": {},
   "outputs": [
    {
     "data": {
      "text/html": [
       "<div>\n",
       "<style scoped>\n",
       "    .dataframe tbody tr th:only-of-type {\n",
       "        vertical-align: middle;\n",
       "    }\n",
       "\n",
       "    .dataframe tbody tr th {\n",
       "        vertical-align: top;\n",
       "    }\n",
       "\n",
       "    .dataframe thead th {\n",
       "        text-align: right;\n",
       "    }\n",
       "</style>\n",
       "<table border=\"1\" class=\"dataframe\">\n",
       "  <thead>\n",
       "    <tr style=\"text-align: right;\">\n",
       "      <th></th>\n",
       "      <th>Postcode</th>\n",
       "      <th>Borough</th>\n",
       "      <th>Neighbourhood</th>\n",
       "    </tr>\n",
       "  </thead>\n",
       "  <tbody>\n",
       "    <tr>\n",
       "      <th>0</th>\n",
       "      <td>M1B</td>\n",
       "      <td>Scarborough</td>\n",
       "      <td>Rouge, Malvern</td>\n",
       "    </tr>\n",
       "    <tr>\n",
       "      <th>1</th>\n",
       "      <td>M1C</td>\n",
       "      <td>Scarborough</td>\n",
       "      <td>Highland Creek, Rouge Hill, Port Union</td>\n",
       "    </tr>\n",
       "    <tr>\n",
       "      <th>2</th>\n",
       "      <td>M1E</td>\n",
       "      <td>Scarborough</td>\n",
       "      <td>Guildwood, Morningside, West Hill</td>\n",
       "    </tr>\n",
       "    <tr>\n",
       "      <th>3</th>\n",
       "      <td>M1G</td>\n",
       "      <td>Scarborough</td>\n",
       "      <td>Woburn</td>\n",
       "    </tr>\n",
       "    <tr>\n",
       "      <th>4</th>\n",
       "      <td>M1H</td>\n",
       "      <td>Scarborough</td>\n",
       "      <td>Cedarbrae</td>\n",
       "    </tr>\n",
       "  </tbody>\n",
       "</table>\n",
       "</div>"
      ],
      "text/plain": [
       "  Postcode      Borough                           Neighbourhood\n",
       "0      M1B  Scarborough                          Rouge, Malvern\n",
       "1      M1C  Scarborough  Highland Creek, Rouge Hill, Port Union\n",
       "2      M1E  Scarborough       Guildwood, Morningside, West Hill\n",
       "3      M1G  Scarborough                                  Woburn\n",
       "4      M1H  Scarborough                               Cedarbrae"
      ]
     },
     "execution_count": 16,
     "metadata": {},
     "output_type": "execute_result"
    }
   ],
   "source": [
    "df = df.groupby(['Postcode', 'Borough'])['Neighbourhood'].apply(list).apply(lambda x:', '.join(x)).to_frame().reset_index()\n",
    "df.head()"
   ]
  },
  {
   "cell_type": "markdown",
   "metadata": {},
   "source": [
    "So if the neighbourhood has \"Not Assigned\" we will change it to Borough."
   ]
  },
  {
   "cell_type": "code",
   "execution_count": 15,
   "metadata": {},
   "outputs": [
    {
     "data": {
      "text/html": [
       "<div>\n",
       "<style scoped>\n",
       "    .dataframe tbody tr th:only-of-type {\n",
       "        vertical-align: middle;\n",
       "    }\n",
       "\n",
       "    .dataframe tbody tr th {\n",
       "        vertical-align: top;\n",
       "    }\n",
       "\n",
       "    .dataframe thead th {\n",
       "        text-align: right;\n",
       "    }\n",
       "</style>\n",
       "<table border=\"1\" class=\"dataframe\">\n",
       "  <thead>\n",
       "    <tr style=\"text-align: right;\">\n",
       "      <th></th>\n",
       "      <th>Postcode</th>\n",
       "      <th>Borough</th>\n",
       "      <th>Neighbourhood</th>\n",
       "    </tr>\n",
       "  </thead>\n",
       "  <tbody>\n",
       "    <tr>\n",
       "      <th>0</th>\n",
       "      <td>M1B</td>\n",
       "      <td>Scarborough</td>\n",
       "      <td>Rouge, Malvern</td>\n",
       "    </tr>\n",
       "    <tr>\n",
       "      <th>1</th>\n",
       "      <td>M1C</td>\n",
       "      <td>Scarborough</td>\n",
       "      <td>Highland Creek, Rouge Hill, Port Union</td>\n",
       "    </tr>\n",
       "    <tr>\n",
       "      <th>2</th>\n",
       "      <td>M1E</td>\n",
       "      <td>Scarborough</td>\n",
       "      <td>Guildwood, Morningside, West Hill</td>\n",
       "    </tr>\n",
       "    <tr>\n",
       "      <th>3</th>\n",
       "      <td>M1G</td>\n",
       "      <td>Scarborough</td>\n",
       "      <td>Woburn</td>\n",
       "    </tr>\n",
       "    <tr>\n",
       "      <th>4</th>\n",
       "      <td>M1H</td>\n",
       "      <td>Scarborough</td>\n",
       "      <td>Cedarbrae</td>\n",
       "    </tr>\n",
       "  </tbody>\n",
       "</table>\n",
       "</div>"
      ],
      "text/plain": [
       "  Postcode      Borough                           Neighbourhood\n",
       "0      M1B  Scarborough                          Rouge, Malvern\n",
       "1      M1C  Scarborough  Highland Creek, Rouge Hill, Port Union\n",
       "2      M1E  Scarborough       Guildwood, Morningside, West Hill\n",
       "3      M1G  Scarborough                                  Woburn\n",
       "4      M1H  Scarborough                               Cedarbrae"
      ]
     },
     "execution_count": 15,
     "metadata": {},
     "output_type": "execute_result"
    }
   ],
   "source": [
    "for index, row in df.iterrows():\n",
    "    if row['Neighbourhood'] == 'Not assigned':\n",
    "        row['Neighbourhood'] = row['Borough']\n",
    "df.head()"
   ]
  },
  {
   "cell_type": "markdown",
   "metadata": {},
   "source": [
    "So finally we have cleaned the data for this week. We can now move towards applying K-Mean Clustering."
   ]
  },
  {
   "cell_type": "code",
   "execution_count": 19,
   "metadata": {},
   "outputs": [
    {
     "data": {
      "text/plain": [
       "(288, 3)"
      ]
     },
     "execution_count": 19,
     "metadata": {},
     "output_type": "execute_result"
    }
   ],
   "source": [
    "df.shape"
   ]
  }
 ],
 "metadata": {
  "kernelspec": {
   "display_name": "Python 3.6",
   "language": "python",
   "name": "python3"
  },
  "language_info": {
   "codemirror_mode": {
    "name": "ipython",
    "version": 3
   },
   "file_extension": ".py",
   "mimetype": "text/x-python",
   "name": "python",
   "nbconvert_exporter": "python",
   "pygments_lexer": "ipython3",
   "version": "3.6.8"
  }
 },
 "nbformat": 4,
 "nbformat_minor": 1
}
